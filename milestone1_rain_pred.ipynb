{
 "cells": [
  {
   "cell_type": "markdown",
   "metadata": {},
   "source": [
    "## Accuracy Score and Confusion Matrix\n",
    "The Notebook offers an example solution for the first milestone of the Rain Prediction second project."
   ]
  },
  {
   "cell_type": "markdown",
   "metadata": {},
   "source": [
    "### Data\n",
    "\n",
    "We are using the [Rainfall prediction dataset from Kaggle](https://www.kaggle.com/jsphyg/weather-dataset-rattle-package) which cotains daily weather observations from numerous Austrailian weather stations."
   ]
  },
  {
   "cell_type": "markdown",
   "metadata": {},
   "source": [
    "### Problem Statement\n",
    "We aim to answer a very simple question - Whether it will rain tomorrow in Australia or not."
   ]
  },
  {
   "cell_type": "markdown",
   "metadata": {},
   "source": [
    "### Importing Libraries"
   ]
  },
  {
   "cell_type": "code",
   "execution_count": 3,
   "metadata": {},
   "outputs": [],
   "source": [
    "##importing libraries\n",
    "import numpy as np  #for algebraic operations on arrays\n",
    "import pandas as pd  #for data exploration and manipulation\n",
    "\n",
    "\n",
    "##plotting libraries\n",
    "import matplotlib.pyplot as plt\n",
    "import seaborn as sns\n",
    "%matplotlib inline\n",
    "\n",
    "import warnings\n",
    "warnings.filterwarnings('ignore')"
   ]
  },
  {
   "cell_type": "markdown",
   "metadata": {},
   "source": [
    "### Reading the cleaned dataset"
   ]
  },
  {
   "cell_type": "code",
   "execution_count": 5,
   "metadata": {},
   "outputs": [],
   "source": [
    "#Read the data\n",
    "X_train=pd.read_csv('data/X_train.csv')\n",
    "X_test=pd.read_csv('data/X_test.csv')\n",
    "y_train=pd.read_csv('data/y_train.csv')\n",
    "y_test=pd.read_csv('data/y_test.csv')"
   ]
  },
  {
   "cell_type": "code",
   "execution_count": 6,
   "metadata": {},
   "outputs": [
    {
     "name": "stdout",
     "output_type": "stream",
     "text": [
      "Shape of X_train: (113754, 119)\n",
      "Shape of y_train: (113754, 2)\n",
      "Shape of X_test: (28439, 119)\n",
      "Shape of y_test: (28439, 2)\n"
     ]
    }
   ],
   "source": [
    "#Print the shapes to see if the data is alright\n",
    "print(\"Shape of X_train:\",X_train.shape)\n",
    "print(\"Shape of y_train:\",y_train.shape)\n",
    "print(\"Shape of X_test:\",X_test.shape)\n",
    "print(\"Shape of y_test:\",y_test.shape)"
   ]
  },
  {
   "cell_type": "markdown",
   "metadata": {},
   "source": [
    "Notice that the labels (y_train and y_test) have 2 columns, but we only require 1, i.e., either 'Yes' or 'No'. Likewise, there were supposed to be 118 features. What went wrong?"
   ]
  },
  {
   "cell_type": "code",
   "execution_count": 7,
   "metadata": {},
   "outputs": [
    {
     "data": {
      "text/html": [
       "<div>\n",
       "<style scoped>\n",
       "    .dataframe tbody tr th:only-of-type {\n",
       "        vertical-align: middle;\n",
       "    }\n",
       "\n",
       "    .dataframe tbody tr th {\n",
       "        vertical-align: top;\n",
       "    }\n",
       "\n",
       "    .dataframe thead th {\n",
       "        text-align: right;\n",
       "    }\n",
       "</style>\n",
       "<table border=\"1\" class=\"dataframe\">\n",
       "  <thead>\n",
       "    <tr style=\"text-align: right;\">\n",
       "      <th></th>\n",
       "      <th>Unnamed: 0</th>\n",
       "      <th>RainTomorrow</th>\n",
       "    </tr>\n",
       "  </thead>\n",
       "  <tbody>\n",
       "    <tr>\n",
       "      <th>0</th>\n",
       "      <td>103319</td>\n",
       "      <td>No</td>\n",
       "    </tr>\n",
       "    <tr>\n",
       "      <th>1</th>\n",
       "      <td>36624</td>\n",
       "      <td>No</td>\n",
       "    </tr>\n",
       "    <tr>\n",
       "      <th>2</th>\n",
       "      <td>101438</td>\n",
       "      <td>No</td>\n",
       "    </tr>\n",
       "    <tr>\n",
       "      <th>3</th>\n",
       "      <td>118995</td>\n",
       "      <td>No</td>\n",
       "    </tr>\n",
       "    <tr>\n",
       "      <th>4</th>\n",
       "      <td>40580</td>\n",
       "      <td>Yes</td>\n",
       "    </tr>\n",
       "  </tbody>\n",
       "</table>\n",
       "</div>"
      ],
      "text/plain": [
       "   Unnamed: 0 RainTomorrow\n",
       "0      103319           No\n",
       "1       36624           No\n",
       "2      101438           No\n",
       "3      118995           No\n",
       "4       40580          Yes"
      ]
     },
     "execution_count": 7,
     "metadata": {},
     "output_type": "execute_result"
    }
   ],
   "source": [
    "y_train.head()"
   ]
  },
  {
   "cell_type": "code",
   "execution_count": 8,
   "metadata": {},
   "outputs": [
    {
     "data": {
      "text/html": [
       "<div>\n",
       "<style scoped>\n",
       "    .dataframe tbody tr th:only-of-type {\n",
       "        vertical-align: middle;\n",
       "    }\n",
       "\n",
       "    .dataframe tbody tr th {\n",
       "        vertical-align: top;\n",
       "    }\n",
       "\n",
       "    .dataframe thead th {\n",
       "        text-align: right;\n",
       "    }\n",
       "</style>\n",
       "<table border=\"1\" class=\"dataframe\">\n",
       "  <thead>\n",
       "    <tr style=\"text-align: right;\">\n",
       "      <th></th>\n",
       "      <th>Unnamed: 0</th>\n",
       "      <th>Cloud3pm</th>\n",
       "      <th>Cloud9am</th>\n",
       "      <th>Day</th>\n",
       "      <th>Evaporation</th>\n",
       "      <th>Humidity3pm</th>\n",
       "      <th>Humidity9am</th>\n",
       "      <th>Location=Adelaide</th>\n",
       "      <th>Location=Albany</th>\n",
       "      <th>Location=Albury</th>\n",
       "      <th>...</th>\n",
       "      <th>WindGustDir=SSE</th>\n",
       "      <th>WindGustDir=SSW</th>\n",
       "      <th>WindGustDir=SW</th>\n",
       "      <th>WindGustDir=W</th>\n",
       "      <th>WindGustDir=WNW</th>\n",
       "      <th>WindGustDir=WSW</th>\n",
       "      <th>WindGustSpeed</th>\n",
       "      <th>WindSpeed3pm</th>\n",
       "      <th>WindSpeed9am</th>\n",
       "      <th>Year</th>\n",
       "    </tr>\n",
       "  </thead>\n",
       "  <tbody>\n",
       "    <tr>\n",
       "      <th>0</th>\n",
       "      <td>0</td>\n",
       "      <td>0.125</td>\n",
       "      <td>0.777778</td>\n",
       "      <td>0.233333</td>\n",
       "      <td>0.743119</td>\n",
       "      <td>0.20</td>\n",
       "      <td>0.656566</td>\n",
       "      <td>0.0</td>\n",
       "      <td>0.0</td>\n",
       "      <td>0.0</td>\n",
       "      <td>...</td>\n",
       "      <td>0.0</td>\n",
       "      <td>1.0</td>\n",
       "      <td>0.0</td>\n",
       "      <td>0.0</td>\n",
       "      <td>0.0</td>\n",
       "      <td>0.0</td>\n",
       "      <td>0.395349</td>\n",
       "      <td>0.649123</td>\n",
       "      <td>0.400000</td>\n",
       "      <td>0.2</td>\n",
       "    </tr>\n",
       "    <tr>\n",
       "      <th>1</th>\n",
       "      <td>1</td>\n",
       "      <td>0.625</td>\n",
       "      <td>0.777778</td>\n",
       "      <td>0.800000</td>\n",
       "      <td>0.275229</td>\n",
       "      <td>0.32</td>\n",
       "      <td>0.767677</td>\n",
       "      <td>0.0</td>\n",
       "      <td>0.0</td>\n",
       "      <td>0.0</td>\n",
       "      <td>...</td>\n",
       "      <td>0.0</td>\n",
       "      <td>0.0</td>\n",
       "      <td>0.0</td>\n",
       "      <td>1.0</td>\n",
       "      <td>0.0</td>\n",
       "      <td>0.0</td>\n",
       "      <td>0.186047</td>\n",
       "      <td>0.157895</td>\n",
       "      <td>0.109091</td>\n",
       "      <td>0.4</td>\n",
       "    </tr>\n",
       "    <tr>\n",
       "      <th>2</th>\n",
       "      <td>2</td>\n",
       "      <td>1.000</td>\n",
       "      <td>0.666667</td>\n",
       "      <td>0.033333</td>\n",
       "      <td>0.183486</td>\n",
       "      <td>0.58</td>\n",
       "      <td>0.797980</td>\n",
       "      <td>0.0</td>\n",
       "      <td>0.0</td>\n",
       "      <td>0.0</td>\n",
       "      <td>...</td>\n",
       "      <td>0.0</td>\n",
       "      <td>0.0</td>\n",
       "      <td>1.0</td>\n",
       "      <td>0.0</td>\n",
       "      <td>0.0</td>\n",
       "      <td>0.0</td>\n",
       "      <td>0.186047</td>\n",
       "      <td>0.333333</td>\n",
       "      <td>0.163636</td>\n",
       "      <td>0.6</td>\n",
       "    </tr>\n",
       "    <tr>\n",
       "      <th>3</th>\n",
       "      <td>3</td>\n",
       "      <td>0.500</td>\n",
       "      <td>0.555556</td>\n",
       "      <td>0.266667</td>\n",
       "      <td>0.577982</td>\n",
       "      <td>0.23</td>\n",
       "      <td>0.444444</td>\n",
       "      <td>0.0</td>\n",
       "      <td>0.0</td>\n",
       "      <td>0.0</td>\n",
       "      <td>...</td>\n",
       "      <td>0.0</td>\n",
       "      <td>0.0</td>\n",
       "      <td>0.0</td>\n",
       "      <td>0.0</td>\n",
       "      <td>0.0</td>\n",
       "      <td>0.0</td>\n",
       "      <td>0.240310</td>\n",
       "      <td>0.192982</td>\n",
       "      <td>0.200000</td>\n",
       "      <td>0.5</td>\n",
       "    </tr>\n",
       "    <tr>\n",
       "      <th>4</th>\n",
       "      <td>4</td>\n",
       "      <td>0.375</td>\n",
       "      <td>0.555556</td>\n",
       "      <td>0.400000</td>\n",
       "      <td>0.293578</td>\n",
       "      <td>0.68</td>\n",
       "      <td>0.757576</td>\n",
       "      <td>0.0</td>\n",
       "      <td>0.0</td>\n",
       "      <td>0.0</td>\n",
       "      <td>...</td>\n",
       "      <td>0.0</td>\n",
       "      <td>0.0</td>\n",
       "      <td>1.0</td>\n",
       "      <td>0.0</td>\n",
       "      <td>0.0</td>\n",
       "      <td>0.0</td>\n",
       "      <td>0.209302</td>\n",
       "      <td>0.385965</td>\n",
       "      <td>0.036364</td>\n",
       "      <td>0.8</td>\n",
       "    </tr>\n",
       "  </tbody>\n",
       "</table>\n",
       "<p>5 rows × 119 columns</p>\n",
       "</div>"
      ],
      "text/plain": [
       "   Unnamed: 0  Cloud3pm  Cloud9am       Day  Evaporation  Humidity3pm  \\\n",
       "0           0     0.125  0.777778  0.233333     0.743119         0.20   \n",
       "1           1     0.625  0.777778  0.800000     0.275229         0.32   \n",
       "2           2     1.000  0.666667  0.033333     0.183486         0.58   \n",
       "3           3     0.500  0.555556  0.266667     0.577982         0.23   \n",
       "4           4     0.375  0.555556  0.400000     0.293578         0.68   \n",
       "\n",
       "   Humidity9am  Location=Adelaide  Location=Albany  Location=Albury  ...  \\\n",
       "0     0.656566                0.0              0.0              0.0  ...   \n",
       "1     0.767677                0.0              0.0              0.0  ...   \n",
       "2     0.797980                0.0              0.0              0.0  ...   \n",
       "3     0.444444                0.0              0.0              0.0  ...   \n",
       "4     0.757576                0.0              0.0              0.0  ...   \n",
       "\n",
       "   WindGustDir=SSE  WindGustDir=SSW  WindGustDir=SW  WindGustDir=W  \\\n",
       "0              0.0              1.0             0.0            0.0   \n",
       "1              0.0              0.0             0.0            1.0   \n",
       "2              0.0              0.0             1.0            0.0   \n",
       "3              0.0              0.0             0.0            0.0   \n",
       "4              0.0              0.0             1.0            0.0   \n",
       "\n",
       "   WindGustDir=WNW  WindGustDir=WSW  WindGustSpeed  WindSpeed3pm  \\\n",
       "0              0.0              0.0       0.395349      0.649123   \n",
       "1              0.0              0.0       0.186047      0.157895   \n",
       "2              0.0              0.0       0.186047      0.333333   \n",
       "3              0.0              0.0       0.240310      0.192982   \n",
       "4              0.0              0.0       0.209302      0.385965   \n",
       "\n",
       "   WindSpeed9am  Year  \n",
       "0      0.400000   0.2  \n",
       "1      0.109091   0.4  \n",
       "2      0.163636   0.6  \n",
       "3      0.200000   0.5  \n",
       "4      0.036364   0.8  \n",
       "\n",
       "[5 rows x 119 columns]"
      ]
     },
     "execution_count": 8,
     "metadata": {},
     "output_type": "execute_result"
    }
   ],
   "source": [
    "X_train.head()"
   ]
  },
  {
   "cell_type": "markdown",
   "metadata": {},
   "source": [
    "It looks like the old index values from the .csv file is now the first column. Let's fix it."
   ]
  },
  {
   "cell_type": "code",
   "execution_count": 9,
   "metadata": {},
   "outputs": [],
   "source": [
    "#Ignore the first column from both the feature dataframe and label series\n",
    "X_train=X_train.iloc[:,1:]\n",
    "X_test=X_test.iloc[:,1:]\n",
    "y_train=y_train[\"RainTomorrow\"]\n",
    "y_test=y_test[\"RainTomorrow\"]"
   ]
  },
  {
   "cell_type": "code",
   "execution_count": 10,
   "metadata": {},
   "outputs": [
    {
     "data": {
      "text/html": [
       "<div>\n",
       "<style scoped>\n",
       "    .dataframe tbody tr th:only-of-type {\n",
       "        vertical-align: middle;\n",
       "    }\n",
       "\n",
       "    .dataframe tbody tr th {\n",
       "        vertical-align: top;\n",
       "    }\n",
       "\n",
       "    .dataframe thead th {\n",
       "        text-align: right;\n",
       "    }\n",
       "</style>\n",
       "<table border=\"1\" class=\"dataframe\">\n",
       "  <thead>\n",
       "    <tr style=\"text-align: right;\">\n",
       "      <th></th>\n",
       "      <th>Cloud3pm</th>\n",
       "      <th>Cloud9am</th>\n",
       "      <th>Day</th>\n",
       "      <th>Evaporation</th>\n",
       "      <th>Humidity3pm</th>\n",
       "      <th>Humidity9am</th>\n",
       "      <th>Location=Adelaide</th>\n",
       "      <th>Location=Albany</th>\n",
       "      <th>Location=Albury</th>\n",
       "      <th>Location=AliceSprings</th>\n",
       "      <th>...</th>\n",
       "      <th>WindGustDir=SSE</th>\n",
       "      <th>WindGustDir=SSW</th>\n",
       "      <th>WindGustDir=SW</th>\n",
       "      <th>WindGustDir=W</th>\n",
       "      <th>WindGustDir=WNW</th>\n",
       "      <th>WindGustDir=WSW</th>\n",
       "      <th>WindGustSpeed</th>\n",
       "      <th>WindSpeed3pm</th>\n",
       "      <th>WindSpeed9am</th>\n",
       "      <th>Year</th>\n",
       "    </tr>\n",
       "  </thead>\n",
       "  <tbody>\n",
       "    <tr>\n",
       "      <th>0</th>\n",
       "      <td>0.125</td>\n",
       "      <td>0.777778</td>\n",
       "      <td>0.233333</td>\n",
       "      <td>0.743119</td>\n",
       "      <td>0.20</td>\n",
       "      <td>0.656566</td>\n",
       "      <td>0.0</td>\n",
       "      <td>0.0</td>\n",
       "      <td>0.0</td>\n",
       "      <td>0.0</td>\n",
       "      <td>...</td>\n",
       "      <td>0.0</td>\n",
       "      <td>1.0</td>\n",
       "      <td>0.0</td>\n",
       "      <td>0.0</td>\n",
       "      <td>0.0</td>\n",
       "      <td>0.0</td>\n",
       "      <td>0.395349</td>\n",
       "      <td>0.649123</td>\n",
       "      <td>0.400000</td>\n",
       "      <td>0.2</td>\n",
       "    </tr>\n",
       "    <tr>\n",
       "      <th>1</th>\n",
       "      <td>0.625</td>\n",
       "      <td>0.777778</td>\n",
       "      <td>0.800000</td>\n",
       "      <td>0.275229</td>\n",
       "      <td>0.32</td>\n",
       "      <td>0.767677</td>\n",
       "      <td>0.0</td>\n",
       "      <td>0.0</td>\n",
       "      <td>0.0</td>\n",
       "      <td>0.0</td>\n",
       "      <td>...</td>\n",
       "      <td>0.0</td>\n",
       "      <td>0.0</td>\n",
       "      <td>0.0</td>\n",
       "      <td>1.0</td>\n",
       "      <td>0.0</td>\n",
       "      <td>0.0</td>\n",
       "      <td>0.186047</td>\n",
       "      <td>0.157895</td>\n",
       "      <td>0.109091</td>\n",
       "      <td>0.4</td>\n",
       "    </tr>\n",
       "    <tr>\n",
       "      <th>2</th>\n",
       "      <td>1.000</td>\n",
       "      <td>0.666667</td>\n",
       "      <td>0.033333</td>\n",
       "      <td>0.183486</td>\n",
       "      <td>0.58</td>\n",
       "      <td>0.797980</td>\n",
       "      <td>0.0</td>\n",
       "      <td>0.0</td>\n",
       "      <td>0.0</td>\n",
       "      <td>0.0</td>\n",
       "      <td>...</td>\n",
       "      <td>0.0</td>\n",
       "      <td>0.0</td>\n",
       "      <td>1.0</td>\n",
       "      <td>0.0</td>\n",
       "      <td>0.0</td>\n",
       "      <td>0.0</td>\n",
       "      <td>0.186047</td>\n",
       "      <td>0.333333</td>\n",
       "      <td>0.163636</td>\n",
       "      <td>0.6</td>\n",
       "    </tr>\n",
       "    <tr>\n",
       "      <th>3</th>\n",
       "      <td>0.500</td>\n",
       "      <td>0.555556</td>\n",
       "      <td>0.266667</td>\n",
       "      <td>0.577982</td>\n",
       "      <td>0.23</td>\n",
       "      <td>0.444444</td>\n",
       "      <td>0.0</td>\n",
       "      <td>0.0</td>\n",
       "      <td>0.0</td>\n",
       "      <td>0.0</td>\n",
       "      <td>...</td>\n",
       "      <td>0.0</td>\n",
       "      <td>0.0</td>\n",
       "      <td>0.0</td>\n",
       "      <td>0.0</td>\n",
       "      <td>0.0</td>\n",
       "      <td>0.0</td>\n",
       "      <td>0.240310</td>\n",
       "      <td>0.192982</td>\n",
       "      <td>0.200000</td>\n",
       "      <td>0.5</td>\n",
       "    </tr>\n",
       "    <tr>\n",
       "      <th>4</th>\n",
       "      <td>0.375</td>\n",
       "      <td>0.555556</td>\n",
       "      <td>0.400000</td>\n",
       "      <td>0.293578</td>\n",
       "      <td>0.68</td>\n",
       "      <td>0.757576</td>\n",
       "      <td>0.0</td>\n",
       "      <td>0.0</td>\n",
       "      <td>0.0</td>\n",
       "      <td>0.0</td>\n",
       "      <td>...</td>\n",
       "      <td>0.0</td>\n",
       "      <td>0.0</td>\n",
       "      <td>1.0</td>\n",
       "      <td>0.0</td>\n",
       "      <td>0.0</td>\n",
       "      <td>0.0</td>\n",
       "      <td>0.209302</td>\n",
       "      <td>0.385965</td>\n",
       "      <td>0.036364</td>\n",
       "      <td>0.8</td>\n",
       "    </tr>\n",
       "  </tbody>\n",
       "</table>\n",
       "<p>5 rows × 118 columns</p>\n",
       "</div>"
      ],
      "text/plain": [
       "   Cloud3pm  Cloud9am       Day  Evaporation  Humidity3pm  Humidity9am  \\\n",
       "0     0.125  0.777778  0.233333     0.743119         0.20     0.656566   \n",
       "1     0.625  0.777778  0.800000     0.275229         0.32     0.767677   \n",
       "2     1.000  0.666667  0.033333     0.183486         0.58     0.797980   \n",
       "3     0.500  0.555556  0.266667     0.577982         0.23     0.444444   \n",
       "4     0.375  0.555556  0.400000     0.293578         0.68     0.757576   \n",
       "\n",
       "   Location=Adelaide  Location=Albany  Location=Albury  Location=AliceSprings  \\\n",
       "0                0.0              0.0              0.0                    0.0   \n",
       "1                0.0              0.0              0.0                    0.0   \n",
       "2                0.0              0.0              0.0                    0.0   \n",
       "3                0.0              0.0              0.0                    0.0   \n",
       "4                0.0              0.0              0.0                    0.0   \n",
       "\n",
       "   ...  WindGustDir=SSE  WindGustDir=SSW  WindGustDir=SW  WindGustDir=W  \\\n",
       "0  ...              0.0              1.0             0.0            0.0   \n",
       "1  ...              0.0              0.0             0.0            1.0   \n",
       "2  ...              0.0              0.0             1.0            0.0   \n",
       "3  ...              0.0              0.0             0.0            0.0   \n",
       "4  ...              0.0              0.0             1.0            0.0   \n",
       "\n",
       "   WindGustDir=WNW  WindGustDir=WSW  WindGustSpeed  WindSpeed3pm  \\\n",
       "0              0.0              0.0       0.395349      0.649123   \n",
       "1              0.0              0.0       0.186047      0.157895   \n",
       "2              0.0              0.0       0.186047      0.333333   \n",
       "3              0.0              0.0       0.240310      0.192982   \n",
       "4              0.0              0.0       0.209302      0.385965   \n",
       "\n",
       "   WindSpeed9am  Year  \n",
       "0      0.400000   0.2  \n",
       "1      0.109091   0.4  \n",
       "2      0.163636   0.6  \n",
       "3      0.200000   0.5  \n",
       "4      0.036364   0.8  \n",
       "\n",
       "[5 rows x 118 columns]"
      ]
     },
     "execution_count": 10,
     "metadata": {},
     "output_type": "execute_result"
    }
   ],
   "source": [
    "X_train.head()"
   ]
  },
  {
   "cell_type": "code",
   "execution_count": 11,
   "metadata": {},
   "outputs": [
    {
     "data": {
      "text/plain": [
       "0     No\n",
       "1     No\n",
       "2     No\n",
       "3     No\n",
       "4    Yes\n",
       "Name: RainTomorrow, dtype: object"
      ]
     },
     "execution_count": 11,
     "metadata": {},
     "output_type": "execute_result"
    }
   ],
   "source": [
    "y_train.head()"
   ]
  },
  {
   "cell_type": "markdown",
   "metadata": {},
   "source": [
    "### Fitting the Model on the data\n",
    "As done in project 1, let's fit the dataset on the Logistic Regression Model"
   ]
  },
  {
   "cell_type": "code",
   "execution_count": 12,
   "metadata": {},
   "outputs": [
    {
     "data": {
      "text/plain": [
       "LogisticRegression(C=1.0, class_weight=None, dual=False, fit_intercept=True,\n",
       "                   intercept_scaling=1, l1_ratio=None, max_iter=100,\n",
       "                   multi_class='auto', n_jobs=None, penalty='l2',\n",
       "                   random_state=0, solver='liblinear', tol=0.0001, verbose=0,\n",
       "                   warm_start=False)"
      ]
     },
     "execution_count": 12,
     "metadata": {},
     "output_type": "execute_result"
    }
   ],
   "source": [
    "#Import the class\n",
    "from sklearn.linear_model import LogisticRegression\n",
    "\n",
    "#Instantiate the model class\n",
    "logreg = LogisticRegression(solver='liblinear', random_state=0)\n",
    "\n",
    "#Train the model\n",
    "logreg.fit(X_train, y_train)"
   ]
  },
  {
   "cell_type": "markdown",
   "metadata": {},
   "source": [
    "---\n",
    "---"
   ]
  },
  {
   "cell_type": "markdown",
   "metadata": {},
   "source": [
    "### Accuracy Score and Confusion Matrix\n",
    "\n",
    "#### (a) Accuracy Score"
   ]
  },
  {
   "cell_type": "markdown",
   "metadata": {},
   "source": [
    "The main purpose of evaluating models is to understand how good the model is and compare with other models to pick the best one for the problem at hand.\n",
    "\n",
    "Now that we have fit our model, it is time to predict labels for y_test. After obtaining the predictions, we need to evaluate the predicitons. Note that when we talk about model accuracy, we generally refer to the test set and not the train set since we want to base the model on data it has not seen yet. At the same time, we will also be predicting labels for X_train, the data that the model was fit on in order to understand if our model has overfit the training data by comparing it to the model accuracy on the test set.\n",
    "\n",
    "The accuracy of a binary classification model is nothing but the percentage of correct predictions it makes. This is the simplest way to evaluate a classifier: by counting the number of cases in which our model turned out to be right, we can learn a lot about the model's behavior and quality."
   ]
  },
  {
   "cell_type": "markdown",
   "metadata": {},
   "source": [
    "**Overfitting**: This phenomenon occurs when the model has fit 'too perfectly' on the train set, as a result of which it performs poorly on data it has not come across. It is indicated by a large difference in training set accuracy and testing set accuracy. This leads to high variance. The opposite of overfitting is **underfitting** where the model has not fit well on the training set itself, leading to a high bias.\n",
    "\n",
    "![Image](https://media-exp1.licdn.com/dms/image/C5612AQHQ4RWFA1BO6Q/article-cover_image-shrink_720_1280/0?e=1605744000&v=beta&t=v9VsjM_Pk5K8nDe4yqhdVA7We6lB7lrmyaA9T5g-YBc)\n",
    "\n",
    "**Note**: In the image, validation error refers to the test error in our case."
   ]
  },
  {
   "cell_type": "code",
   "execution_count": 14,
   "metadata": {},
   "outputs": [
    {
     "data": {
      "text/plain": [
       "array(['Yes', 'No', 'No', ..., 'No', 'Yes', 'Yes'], dtype=object)"
      ]
     },
     "execution_count": 14,
     "metadata": {},
     "output_type": "execute_result"
    }
   ],
   "source": [
    "##predicting the result for both the train set and the test set\n",
    "y_pred_train = logreg.predict(X_train)\n",
    "y_pred_test = logreg.predict(X_test)\n",
    "\n",
    "y_pred_test"
   ]
  },
  {
   "cell_type": "code",
   "execution_count": 15,
   "metadata": {},
   "outputs": [
    {
     "name": "stdout",
     "output_type": "stream",
     "text": [
      "Accuracy score for train data: 0.8480\n",
      "Accuracy score for test data: 0.8489\n"
     ]
    }
   ],
   "source": [
    "##model accuracy\n",
    "from sklearn.metrics import accuracy_score\n",
    "\n",
    "#Let's check the accuracy score for both the training set and the testing set\n",
    "print('Accuracy score for train data: {0:0.4f}'.format(accuracy_score(y_train, y_pred_train)))\n",
    "print('Accuracy score for test data: {0:0.4f}'.format(accuracy_score(y_test, y_pred_test)))"
   ]
  },
  {
   "cell_type": "markdown",
   "metadata": {},
   "source": [
    "Since the accuracy score on the test data is very close to the accuracy score on the train data, we can safely say that overfitting has not taken place, meaning we have a low variance model. As for underfitting, while ~85% is probably a good score, we cannot say for sure whether the model has low bias, for all we know we could probably change a few hyperparameters and get a much better accuracy."
   ]
  },
  {
   "cell_type": "markdown",
   "metadata": {},
   "source": [
    "**Note**: Logistic regression does not actually say if it will rain or not, in fact, it provides the probability of raining. If the probability is >= 0.5, the 'predict' method will predict rainfall. The 'predict_proba' method gives the probability values."
   ]
  },
  {
   "cell_type": "code",
   "execution_count": 17,
   "metadata": {},
   "outputs": [
    {
     "data": {
      "text/plain": [
       "array([0.80658277, 0.06055644, 0.15584481, ..., 0.03178373, 0.77339503,\n",
       "       0.95309868])"
      ]
     },
     "execution_count": 17,
     "metadata": {},
     "output_type": "execute_result"
    }
   ],
   "source": [
    "##probabilities for positive class\n",
    "y_pred_test_probs = logreg.predict_proba(X_test)[:,1]\n",
    "\n",
    "y_pred_test_probs"
   ]
  },
  {
   "cell_type": "markdown",
   "metadata": {},
   "source": [
    "What if we want to change our threshold from 0.5? For example, for a cancer predicition model, we would want to predict it as positive even if the probability is at least 0.3. The following code shows how we can do that - of course, on our dataset itself. Not only this, but it also affects the precision-recall trade-off as shown later."
   ]
  },
  {
   "cell_type": "code",
   "execution_count": 18,
   "metadata": {},
   "outputs": [
    {
     "name": "stdout",
     "output_type": "stream",
     "text": [
      "Accuracy score for test data: 0.8243\n"
     ]
    }
   ],
   "source": [
    "BoolArray=logreg.predict_proba(X_test)[:,1]>=0.3\n",
    "Predictions=np.array(['Yes' if val==True else 'No' for val in BoolArray])\n",
    "Predictions\n",
    "print('Accuracy score for test data: {0:0.4f}'.format(accuracy_score(y_test, Predictions)))"
   ]
  },
  {
   "cell_type": "markdown",
   "metadata": {},
   "source": [
    "Notice that the  the accuracy has dropped, but it may vary from model to model."
   ]
  },
  {
   "cell_type": "markdown",
   "metadata": {},
   "source": [
    "Next, although we obtained an accuracy of ~85%, it's a good idea to compare it to a dummy baseline. A dummy baseline is one in which we calculate the accuracy of a model that always predicts 'Yes' or always predicts 'No'. This gives us an idea of how better our model is compared to this 'dummy' model."
   ]
  },
  {
   "cell_type": "code",
   "execution_count": 19,
   "metadata": {},
   "outputs": [],
   "source": [
    "YesDummyModel = np.repeat('Yes',len(y_test))\n",
    "NoDummyModel = np.repeat('No',len(y_test))"
   ]
  },
  {
   "cell_type": "code",
   "execution_count": 20,
   "metadata": {},
   "outputs": [
    {
     "name": "stdout",
     "output_type": "stream",
     "text": [
      "Accuracy score for dummy model predicting \"Yes\": 0.2216\n",
      "Accuracy score for dummy model predicting \"No\": 0.7784\n"
     ]
    }
   ],
   "source": [
    "print('Accuracy score for dummy model predicting \"Yes\": {0:0.4f}'.format(accuracy_score(y_test, YesDummyModel)))\n",
    "print('Accuracy score for dummy model predicting \"No\": {0:0.4f}'.format(accuracy_score(y_test, NoDummyModel)))"
   ]
  },
  {
   "cell_type": "markdown",
   "metadata": {},
   "source": [
    "Notice that the dummy model that predicts \"No\" us just around 7% worse than our model. Not much of a difference for an extremely trivial model. This leads us to the need for a **confusion matrix**. "
   ]
  },
  {
   "cell_type": "markdown",
   "metadata": {},
   "source": [
    "#### (b) Confusion Matrix\n",
    "As seen above, sometimes accuracy may not be the best indicator of how good our model is, particularly when our model has a large percentage of one class (as in the case of 'No' for our dataset) - an imbalanced dataset.\n",
    "\n",
    "![Image](https://2.bp.blogspot.com/-EvSXDotTOwc/XMfeOGZ-CVI/AAAAAAAAEiE/oePFfvhfOQM11dgRn9FkPxlegCXbgOF4QCLcBGAs/s1600/confusionMatrxiUpdated.jpg)\n",
    "\n",
    "As seen in the image, we split our predicted values into one of four classes, depending on if the predicted value is \"Yes\" or \"No\" and if the actual value is \"Yes\" or \"No\". As a result we have several different metrics which, each of which have their unique advantages."
   ]
  },
  {
   "cell_type": "code",
   "execution_count": 21,
   "metadata": {},
   "outputs": [
    {
     "data": {
      "image/png": "[encoded data removed]",
      "text/plain": [
       "<Figure size 432x288 with 2 Axes>"
      ]
     },
     "metadata": {
      "needs_background": "light"
     },
     "output_type": "display_data"
    },
    {
     "name": "stdout",
     "output_type": "stream",
     "text": [
      "\n",
      "               precision    recall  f1-score   support\n",
      "\n",
      "          No       0.87      0.94      0.91     22137\n",
      "         Yes       0.72      0.52      0.60      6302\n",
      "\n",
      "    accuracy                           0.85     28439\n",
      "   macro avg       0.80      0.73      0.75     28439\n",
      "weighted avg       0.84      0.85      0.84     28439\n",
      "\n"
     ]
    }
   ],
   "source": [
    "from sklearn.metrics import confusion_matrix, classification_report\n",
    "\n",
    "#Plotting the Confusion Matrix\n",
    "cm = confusion_matrix(y_test,y_pred_test)\n",
    "cmdf=pd.DataFrame(cm,index=[\"No\",\"Yes\"],columns=[\"No\",\"Yes\"])\n",
    "fig,ax=plt.subplots(1,1)\n",
    "sns.heatmap(cmdf,annot=True,fmt='d',ax=ax)\n",
    "ax.set_xlabel('Predicted Label')\n",
    "ax.set_ylabel('True Label')\n",
    "plt.show()\n",
    "\n",
    "#Printing the Classification Report\n",
    "print(\"\\n\",classification_report(y_test,y_pred_test))"
   ]
  },
  {
   "cell_type": "markdown",
   "metadata": {},
   "source": [
    "Now that we have used a confusion matrix, we can observe that we have a low precision and recall and subsequently low F1-score for \"Yes\" (F1-score is the harmonic mean of precision and recall). Also, the model does poorly when predicting an actual rainy day. By altering certain hyperparameters, one could ensure a suitable trade-off if needed. \n",
    "\n",
    "In our weather forecast case, this may be a serious problem since it is (perhaps) worse off to say that it is not going to rain but it actually rains instead of wrongly predicting that it's going to rain - leading to people getting unexpectly drenched in the former, and the worst case scenario in the latter case being that people carried their umbrellas unneccesary (Better safe than sorry!). **So ideally we would want to reduce the type 2 error, which will increase the type 1 error** - which we would consider a fair trade."
   ]
  },
  {
   "cell_type": "code",
   "execution_count": 22,
   "metadata": {},
   "outputs": [
    {
     "data": {
      "image/png": "[encoded data removed]",
      "text/plain": [
       "<Figure size 432x288 with 2 Axes>"
      ]
     },
     "metadata": {
      "needs_background": "light"
     },
     "output_type": "display_data"
    },
    {
     "name": "stdout",
     "output_type": "stream",
     "text": [
      "              precision    recall  f1-score   support\n",
      "\n",
      "          No       0.91      0.86      0.88     22137\n",
      "         Yes       0.59      0.70      0.64      6302\n",
      "\n",
      "    accuracy                           0.82     28439\n",
      "   macro avg       0.75      0.78      0.76     28439\n",
      "weighted avg       0.84      0.82      0.83     28439\n",
      "\n"
     ]
    }
   ],
   "source": [
    "#Set the threshold value\n",
    "threshold = 0.3\n",
    "\n",
    "BoolArray=logreg.predict_proba(X_test)[:,1]>=threshold\n",
    "predictions=np.array(['Yes' if val==True else 'No' for val in BoolArray])\n",
    "\n",
    "#Plotting the Confusion Matrix\n",
    "cm = confusion_matrix(y_test,predictions)\n",
    "cmdf=pd.DataFrame(cm,index=[\"No\",\"Yes\"],columns=[\"No\",\"Yes\"])\n",
    "fig,ax=plt.subplots(1,1)\n",
    "sns.heatmap(cmdf,annot=True,fmt='d',ax=ax)\n",
    "ax.set_xlabel('Predicted Label')\n",
    "ax.set_ylabel('True Label')\n",
    "plt.show()\n",
    "\n",
    "#Printing the Classification Report\n",
    "print(classification_report(y_test,predictions))"
   ]
  },
  {
   "cell_type": "markdown",
   "metadata": {},
   "source": [
    "Setting a threshold value of 0.3 seemed to get us to an acceptable set of values"
   ]
  }
 ],
 "metadata": {
  "kernelspec": {
   "display_name": "Python 3",
   "language": "python",
   "name": "python3"
  },
  "language_info": {
   "codemirror_mode": {
    "name": "ipython",
    "version": 3
   },
   "file_extension": ".py",
   "mimetype": "text/x-python",
   "name": "python",
   "nbconvert_exporter": "python",
   "pygments_lexer": "ipython3",
   "version": "3.7.6"
  }
 },
 "nbformat": 4,
 "nbformat_minor": 4
}
