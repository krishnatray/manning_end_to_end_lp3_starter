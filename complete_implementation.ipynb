{
 "cells": [
  {
   "cell_type": "markdown",
   "metadata": {},
   "source": [
    "## End to End Machine Learning for Binary Classification and Rain Prediction\n",
    "### Part 2: Evaluation metrics for Classification\n",
    "\n",
    "This Jupyter Notebook covers the solution implementation of the **second** of 3-Project series on End to End ML for Binary Classification.\n",
    "\n",
    "We are covering the following topics here:\n",
    "\n",
    "1. Accuracy Score and Confusion Matrix\n",
    "2. ROC Curve and AUC Score\n",
    "3. K-Fold Cross-Validation and Hyperparameter Tuning using GridSearchCV\n",
    "\n",
    "Each of these topics is a milestone is a milestone in the second project."
   ]
  },
  {
   "cell_type": "markdown",
   "metadata": {},
   "source": [
    "### Data\n",
    "\n",
    "We are using the [Rainfall prediction dataset from Kaggle](https://www.kaggle.com/jsphyg/weather-dataset-rattle-package) which cotains daily weather observations from numerous Austrailian weather stations."
   ]
  },
  {
   "cell_type": "markdown",
   "metadata": {},
   "source": [
    "### Problem Statement\n",
    "We aim to answer a very simple question - Whether it will rain tomorrow in Australia or not."
   ]
  },
  {
   "cell_type": "markdown",
   "metadata": {},
   "source": [
    "### Importing Libraries"
   ]
  },
  {
   "cell_type": "code",
   "execution_count": 1,
   "metadata": {},
   "outputs": [],
   "source": [
    "##importing libraries\n",
    "import numpy as np  #for algebraic operations on arrays\n",
    "import pandas as pd  #for data exploration and manipulation\n",
    "\n",
    "\n",
    "##plotting libraries\n",
    "import matplotlib.pyplot as plt\n",
    "import seaborn as sns\n",
    "%matplotlib inline\n",
    "\n",
    "import warnings\n",
    "warnings.filterwarnings('ignore')"
   ]
  },
  {
   "cell_type": "markdown",
   "metadata": {},
   "source": [
    "### Reading the cleaned dataset"
   ]
  },
  {
   "cell_type": "code",
   "execution_count": 2,
   "metadata": {},
   "outputs": [],
   "source": [
    "#Read the dataset\n",
    "X_train=pd.read_csv('data/X_train.csv')\n",
    "X_test=pd.read_csv('data/X_test.csv')\n",
    "y_train=pd.read_csv('data/y_train.csv')\n",
    "y_test=pd.read_csv('data/y_test.csv')"
   ]
  },
  {
   "cell_type": "code",
   "execution_count": 3,
   "metadata": {},
   "outputs": [
    {
     "name": "stdout",
     "output_type": "stream",
     "text": [
      "Shape of X_train: (113754, 119)\n",
      "Shape of y_train: (113754, 2)\n",
      "Shape of X_test: (28439, 119)\n",
      "Shape of y_test: (28439, 2)\n"
     ]
    }
   ],
   "source": [
    "#Print the shapes to see if the data is alright\n",
    "print(\"Shape of X_train:\",X_train.shape)\n",
    "print(\"Shape of y_train:\",y_train.shape)\n",
    "print(\"Shape of X_test:\",X_test.shape)\n",
    "print(\"Shape of y_test:\",y_test.shape)"
   ]
  },
  {
   "cell_type": "markdown",
   "metadata": {},
   "source": [
    "Notice that the labels (y_train and y_test) have 2 columns, but we only require 1, i.e., either 'Yes' or 'No'. Likewise, there were supposed to be 118 features. What went wrong?"
   ]
  },
  {
   "cell_type": "code",
   "execution_count": 4,
   "metadata": {},
   "outputs": [
    {
     "data": {
      "text/html": [
       "<div>\n",
       "<style scoped>\n",
       "    .dataframe tbody tr th:only-of-type {\n",
       "        vertical-align: middle;\n",
       "    }\n",
       "\n",
       "    .dataframe tbody tr th {\n",
       "        vertical-align: top;\n",
       "    }\n",
       "\n",
       "    .dataframe thead th {\n",
       "        text-align: right;\n",
       "    }\n",
       "</style>\n",
       "<table border=\"1\" class=\"dataframe\">\n",
       "  <thead>\n",
       "    <tr style=\"text-align: right;\">\n",
       "      <th></th>\n",
       "      <th>Unnamed: 0</th>\n",
       "      <th>RainTomorrow</th>\n",
       "    </tr>\n",
       "  </thead>\n",
       "  <tbody>\n",
       "    <tr>\n",
       "      <th>0</th>\n",
       "      <td>103319</td>\n",
       "      <td>No</td>\n",
       "    </tr>\n",
       "    <tr>\n",
       "      <th>1</th>\n",
       "      <td>36624</td>\n",
       "      <td>No</td>\n",
       "    </tr>\n",
       "    <tr>\n",
       "      <th>2</th>\n",
       "      <td>101438</td>\n",
       "      <td>No</td>\n",
       "    </tr>\n",
       "    <tr>\n",
       "      <th>3</th>\n",
       "      <td>118995</td>\n",
       "      <td>No</td>\n",
       "    </tr>\n",
       "    <tr>\n",
       "      <th>4</th>\n",
       "      <td>40580</td>\n",
       "      <td>Yes</td>\n",
       "    </tr>\n",
       "  </tbody>\n",
       "</table>\n",
       "</div>"
      ],
      "text/plain": [
       "   Unnamed: 0 RainTomorrow\n",
       "0      103319           No\n",
       "1       36624           No\n",
       "2      101438           No\n",
       "3      118995           No\n",
       "4       40580          Yes"
      ]
     },
     "execution_count": 4,
     "metadata": {},
     "output_type": "execute_result"
    }
   ],
   "source": [
    "y_train.head()"
   ]
  },
  {
   "cell_type": "code",
   "execution_count": 5,
   "metadata": {},
   "outputs": [
    {
     "data": {
      "text/html": [
       "<div>\n",
       "<style scoped>\n",
       "    .dataframe tbody tr th:only-of-type {\n",
       "        vertical-align: middle;\n",
       "    }\n",
       "\n",
       "    .dataframe tbody tr th {\n",
       "        vertical-align: top;\n",
       "    }\n",
       "\n",
       "    .dataframe thead th {\n",
       "        text-align: right;\n",
       "    }\n",
       "</style>\n",
       "<table border=\"1\" class=\"dataframe\">\n",
       "  <thead>\n",
       "    <tr style=\"text-align: right;\">\n",
       "      <th></th>\n",
       "      <th>Unnamed: 0</th>\n",
       "      <th>Cloud3pm</th>\n",
       "      <th>Cloud9am</th>\n",
       "      <th>Day</th>\n",
       "      <th>Evaporation</th>\n",
       "      <th>Humidity3pm</th>\n",
       "      <th>Humidity9am</th>\n",
       "      <th>Location=Adelaide</th>\n",
       "      <th>Location=Albany</th>\n",
       "      <th>Location=Albury</th>\n",
       "      <th>...</th>\n",
       "      <th>WindGustDir=SSE</th>\n",
       "      <th>WindGustDir=SSW</th>\n",
       "      <th>WindGustDir=SW</th>\n",
       "      <th>WindGustDir=W</th>\n",
       "      <th>WindGustDir=WNW</th>\n",
       "      <th>WindGustDir=WSW</th>\n",
       "      <th>WindGustSpeed</th>\n",
       "      <th>WindSpeed3pm</th>\n",
       "      <th>WindSpeed9am</th>\n",
       "      <th>Year</th>\n",
       "    </tr>\n",
       "  </thead>\n",
       "  <tbody>\n",
       "    <tr>\n",
       "      <th>0</th>\n",
       "      <td>0</td>\n",
       "      <td>0.125</td>\n",
       "      <td>0.777778</td>\n",
       "      <td>0.233333</td>\n",
       "      <td>0.743119</td>\n",
       "      <td>0.20</td>\n",
       "      <td>0.656566</td>\n",
       "      <td>0.0</td>\n",
       "      <td>0.0</td>\n",
       "      <td>0.0</td>\n",
       "      <td>...</td>\n",
       "      <td>0.0</td>\n",
       "      <td>1.0</td>\n",
       "      <td>0.0</td>\n",
       "      <td>0.0</td>\n",
       "      <td>0.0</td>\n",
       "      <td>0.0</td>\n",
       "      <td>0.395349</td>\n",
       "      <td>0.649123</td>\n",
       "      <td>0.400000</td>\n",
       "      <td>0.2</td>\n",
       "    </tr>\n",
       "    <tr>\n",
       "      <th>1</th>\n",
       "      <td>1</td>\n",
       "      <td>0.625</td>\n",
       "      <td>0.777778</td>\n",
       "      <td>0.800000</td>\n",
       "      <td>0.275229</td>\n",
       "      <td>0.32</td>\n",
       "      <td>0.767677</td>\n",
       "      <td>0.0</td>\n",
       "      <td>0.0</td>\n",
       "      <td>0.0</td>\n",
       "      <td>...</td>\n",
       "      <td>0.0</td>\n",
       "      <td>0.0</td>\n",
       "      <td>0.0</td>\n",
       "      <td>1.0</td>\n",
       "      <td>0.0</td>\n",
       "      <td>0.0</td>\n",
       "      <td>0.186047</td>\n",
       "      <td>0.157895</td>\n",
       "      <td>0.109091</td>\n",
       "      <td>0.4</td>\n",
       "    </tr>\n",
       "    <tr>\n",
       "      <th>2</th>\n",
       "      <td>2</td>\n",
       "      <td>1.000</td>\n",
       "      <td>0.666667</td>\n",
       "      <td>0.033333</td>\n",
       "      <td>0.183486</td>\n",
       "      <td>0.58</td>\n",
       "      <td>0.797980</td>\n",
       "      <td>0.0</td>\n",
       "      <td>0.0</td>\n",
       "      <td>0.0</td>\n",
       "      <td>...</td>\n",
       "      <td>0.0</td>\n",
       "      <td>0.0</td>\n",
       "      <td>1.0</td>\n",
       "      <td>0.0</td>\n",
       "      <td>0.0</td>\n",
       "      <td>0.0</td>\n",
       "      <td>0.186047</td>\n",
       "      <td>0.333333</td>\n",
       "      <td>0.163636</td>\n",
       "      <td>0.6</td>\n",
       "    </tr>\n",
       "    <tr>\n",
       "      <th>3</th>\n",
       "      <td>3</td>\n",
       "      <td>0.500</td>\n",
       "      <td>0.555556</td>\n",
       "      <td>0.266667</td>\n",
       "      <td>0.577982</td>\n",
       "      <td>0.23</td>\n",
       "      <td>0.444444</td>\n",
       "      <td>0.0</td>\n",
       "      <td>0.0</td>\n",
       "      <td>0.0</td>\n",
       "      <td>...</td>\n",
       "      <td>0.0</td>\n",
       "      <td>0.0</td>\n",
       "      <td>0.0</td>\n",
       "      <td>0.0</td>\n",
       "      <td>0.0</td>\n",
       "      <td>0.0</td>\n",
       "      <td>0.240310</td>\n",
       "      <td>0.192982</td>\n",
       "      <td>0.200000</td>\n",
       "      <td>0.5</td>\n",
       "    </tr>\n",
       "    <tr>\n",
       "      <th>4</th>\n",
       "      <td>4</td>\n",
       "      <td>0.375</td>\n",
       "      <td>0.555556</td>\n",
       "      <td>0.400000</td>\n",
       "      <td>0.293578</td>\n",
       "      <td>0.68</td>\n",
       "      <td>0.757576</td>\n",
       "      <td>0.0</td>\n",
       "      <td>0.0</td>\n",
       "      <td>0.0</td>\n",
       "      <td>...</td>\n",
       "      <td>0.0</td>\n",
       "      <td>0.0</td>\n",
       "      <td>1.0</td>\n",
       "      <td>0.0</td>\n",
       "      <td>0.0</td>\n",
       "      <td>0.0</td>\n",
       "      <td>0.209302</td>\n",
       "      <td>0.385965</td>\n",
       "      <td>0.036364</td>\n",
       "      <td>0.8</td>\n",
       "    </tr>\n",
       "  </tbody>\n",
       "</table>\n",
       "<p>5 rows × 119 columns</p>\n",
       "</div>"
      ],
      "text/plain": [
       "   Unnamed: 0  Cloud3pm  Cloud9am       Day  Evaporation  Humidity3pm  \\\n",
       "0           0     0.125  0.777778  0.233333     0.743119         0.20   \n",
       "1           1     0.625  0.777778  0.800000     0.275229         0.32   \n",
       "2           2     1.000  0.666667  0.033333     0.183486         0.58   \n",
       "3           3     0.500  0.555556  0.266667     0.577982         0.23   \n",
       "4           4     0.375  0.555556  0.400000     0.293578         0.68   \n",
       "\n",
       "   Humidity9am  Location=Adelaide  Location=Albany  Location=Albury  ...  \\\n",
       "0     0.656566                0.0              0.0              0.0  ...   \n",
       "1     0.767677                0.0              0.0              0.0  ...   \n",
       "2     0.797980                0.0              0.0              0.0  ...   \n",
       "3     0.444444                0.0              0.0              0.0  ...   \n",
       "4     0.757576                0.0              0.0              0.0  ...   \n",
       "\n",
       "   WindGustDir=SSE  WindGustDir=SSW  WindGustDir=SW  WindGustDir=W  \\\n",
       "0              0.0              1.0             0.0            0.0   \n",
       "1              0.0              0.0             0.0            1.0   \n",
       "2              0.0              0.0             1.0            0.0   \n",
       "3              0.0              0.0             0.0            0.0   \n",
       "4              0.0              0.0             1.0            0.0   \n",
       "\n",
       "   WindGustDir=WNW  WindGustDir=WSW  WindGustSpeed  WindSpeed3pm  \\\n",
       "0              0.0              0.0       0.395349      0.649123   \n",
       "1              0.0              0.0       0.186047      0.157895   \n",
       "2              0.0              0.0       0.186047      0.333333   \n",
       "3              0.0              0.0       0.240310      0.192982   \n",
       "4              0.0              0.0       0.209302      0.385965   \n",
       "\n",
       "   WindSpeed9am  Year  \n",
       "0      0.400000   0.2  \n",
       "1      0.109091   0.4  \n",
       "2      0.163636   0.6  \n",
       "3      0.200000   0.5  \n",
       "4      0.036364   0.8  \n",
       "\n",
       "[5 rows x 119 columns]"
      ]
     },
     "execution_count": 5,
     "metadata": {},
     "output_type": "execute_result"
    }
   ],
   "source": [
    "X_train.head()"
   ]
  },
  {
   "cell_type": "markdown",
   "metadata": {},
   "source": [
    "It looks like the old index values from the .csv file is now the first column. Let's fix it."
   ]
  },
  {
   "cell_type": "code",
   "execution_count": 6,
   "metadata": {},
   "outputs": [],
   "source": [
    "X_train=X_train.iloc[:,1:]\n",
    "X_test=X_test.iloc[:,1:]\n",
    "y_train=y_train[\"RainTomorrow\"]\n",
    "y_test=y_test[\"RainTomorrow\"]"
   ]
  },
  {
   "cell_type": "code",
   "execution_count": 7,
   "metadata": {},
   "outputs": [
    {
     "data": {
      "text/html": [
       "<div>\n",
       "<style scoped>\n",
       "    .dataframe tbody tr th:only-of-type {\n",
       "        vertical-align: middle;\n",
       "    }\n",
       "\n",
       "    .dataframe tbody tr th {\n",
       "        vertical-align: top;\n",
       "    }\n",
       "\n",
       "    .dataframe thead th {\n",
       "        text-align: right;\n",
       "    }\n",
       "</style>\n",
       "<table border=\"1\" class=\"dataframe\">\n",
       "  <thead>\n",
       "    <tr style=\"text-align: right;\">\n",
       "      <th></th>\n",
       "      <th>Cloud3pm</th>\n",
       "      <th>Cloud9am</th>\n",
       "      <th>Day</th>\n",
       "      <th>Evaporation</th>\n",
       "      <th>Humidity3pm</th>\n",
       "      <th>Humidity9am</th>\n",
       "      <th>Location=Adelaide</th>\n",
       "      <th>Location=Albany</th>\n",
       "      <th>Location=Albury</th>\n",
       "      <th>Location=AliceSprings</th>\n",
       "      <th>...</th>\n",
       "      <th>WindGustDir=SSE</th>\n",
       "      <th>WindGustDir=SSW</th>\n",
       "      <th>WindGustDir=SW</th>\n",
       "      <th>WindGustDir=W</th>\n",
       "      <th>WindGustDir=WNW</th>\n",
       "      <th>WindGustDir=WSW</th>\n",
       "      <th>WindGustSpeed</th>\n",
       "      <th>WindSpeed3pm</th>\n",
       "      <th>WindSpeed9am</th>\n",
       "      <th>Year</th>\n",
       "    </tr>\n",
       "  </thead>\n",
       "  <tbody>\n",
       "    <tr>\n",
       "      <th>0</th>\n",
       "      <td>0.125</td>\n",
       "      <td>0.777778</td>\n",
       "      <td>0.233333</td>\n",
       "      <td>0.743119</td>\n",
       "      <td>0.20</td>\n",
       "      <td>0.656566</td>\n",
       "      <td>0.0</td>\n",
       "      <td>0.0</td>\n",
       "      <td>0.0</td>\n",
       "      <td>0.0</td>\n",
       "      <td>...</td>\n",
       "      <td>0.0</td>\n",
       "      <td>1.0</td>\n",
       "      <td>0.0</td>\n",
       "      <td>0.0</td>\n",
       "      <td>0.0</td>\n",
       "      <td>0.0</td>\n",
       "      <td>0.395349</td>\n",
       "      <td>0.649123</td>\n",
       "      <td>0.400000</td>\n",
       "      <td>0.2</td>\n",
       "    </tr>\n",
       "    <tr>\n",
       "      <th>1</th>\n",
       "      <td>0.625</td>\n",
       "      <td>0.777778</td>\n",
       "      <td>0.800000</td>\n",
       "      <td>0.275229</td>\n",
       "      <td>0.32</td>\n",
       "      <td>0.767677</td>\n",
       "      <td>0.0</td>\n",
       "      <td>0.0</td>\n",
       "      <td>0.0</td>\n",
       "      <td>0.0</td>\n",
       "      <td>...</td>\n",
       "      <td>0.0</td>\n",
       "      <td>0.0</td>\n",
       "      <td>0.0</td>\n",
       "      <td>1.0</td>\n",
       "      <td>0.0</td>\n",
       "      <td>0.0</td>\n",
       "      <td>0.186047</td>\n",
       "      <td>0.157895</td>\n",
       "      <td>0.109091</td>\n",
       "      <td>0.4</td>\n",
       "    </tr>\n",
       "    <tr>\n",
       "      <th>2</th>\n",
       "      <td>1.000</td>\n",
       "      <td>0.666667</td>\n",
       "      <td>0.033333</td>\n",
       "      <td>0.183486</td>\n",
       "      <td>0.58</td>\n",
       "      <td>0.797980</td>\n",
       "      <td>0.0</td>\n",
       "      <td>0.0</td>\n",
       "      <td>0.0</td>\n",
       "      <td>0.0</td>\n",
       "      <td>...</td>\n",
       "      <td>0.0</td>\n",
       "      <td>0.0</td>\n",
       "      <td>1.0</td>\n",
       "      <td>0.0</td>\n",
       "      <td>0.0</td>\n",
       "      <td>0.0</td>\n",
       "      <td>0.186047</td>\n",
       "      <td>0.333333</td>\n",
       "      <td>0.163636</td>\n",
       "      <td>0.6</td>\n",
       "    </tr>\n",
       "    <tr>\n",
       "      <th>3</th>\n",
       "      <td>0.500</td>\n",
       "      <td>0.555556</td>\n",
       "      <td>0.266667</td>\n",
       "      <td>0.577982</td>\n",
       "      <td>0.23</td>\n",
       "      <td>0.444444</td>\n",
       "      <td>0.0</td>\n",
       "      <td>0.0</td>\n",
       "      <td>0.0</td>\n",
       "      <td>0.0</td>\n",
       "      <td>...</td>\n",
       "      <td>0.0</td>\n",
       "      <td>0.0</td>\n",
       "      <td>0.0</td>\n",
       "      <td>0.0</td>\n",
       "      <td>0.0</td>\n",
       "      <td>0.0</td>\n",
       "      <td>0.240310</td>\n",
       "      <td>0.192982</td>\n",
       "      <td>0.200000</td>\n",
       "      <td>0.5</td>\n",
       "    </tr>\n",
       "    <tr>\n",
       "      <th>4</th>\n",
       "      <td>0.375</td>\n",
       "      <td>0.555556</td>\n",
       "      <td>0.400000</td>\n",
       "      <td>0.293578</td>\n",
       "      <td>0.68</td>\n",
       "      <td>0.757576</td>\n",
       "      <td>0.0</td>\n",
       "      <td>0.0</td>\n",
       "      <td>0.0</td>\n",
       "      <td>0.0</td>\n",
       "      <td>...</td>\n",
       "      <td>0.0</td>\n",
       "      <td>0.0</td>\n",
       "      <td>1.0</td>\n",
       "      <td>0.0</td>\n",
       "      <td>0.0</td>\n",
       "      <td>0.0</td>\n",
       "      <td>0.209302</td>\n",
       "      <td>0.385965</td>\n",
       "      <td>0.036364</td>\n",
       "      <td>0.8</td>\n",
       "    </tr>\n",
       "  </tbody>\n",
       "</table>\n",
       "<p>5 rows × 118 columns</p>\n",
       "</div>"
      ],
      "text/plain": [
       "   Cloud3pm  Cloud9am       Day  Evaporation  Humidity3pm  Humidity9am  \\\n",
       "0     0.125  0.777778  0.233333     0.743119         0.20     0.656566   \n",
       "1     0.625  0.777778  0.800000     0.275229         0.32     0.767677   \n",
       "2     1.000  0.666667  0.033333     0.183486         0.58     0.797980   \n",
       "3     0.500  0.555556  0.266667     0.577982         0.23     0.444444   \n",
       "4     0.375  0.555556  0.400000     0.293578         0.68     0.757576   \n",
       "\n",
       "   Location=Adelaide  Location=Albany  Location=Albury  Location=AliceSprings  \\\n",
       "0                0.0              0.0              0.0                    0.0   \n",
       "1                0.0              0.0              0.0                    0.0   \n",
       "2                0.0              0.0              0.0                    0.0   \n",
       "3                0.0              0.0              0.0                    0.0   \n",
       "4                0.0              0.0              0.0                    0.0   \n",
       "\n",
       "   ...  WindGustDir=SSE  WindGustDir=SSW  WindGustDir=SW  WindGustDir=W  \\\n",
       "0  ...              0.0              1.0             0.0            0.0   \n",
       "1  ...              0.0              0.0             0.0            1.0   \n",
       "2  ...              0.0              0.0             1.0            0.0   \n",
       "3  ...              0.0              0.0             0.0            0.0   \n",
       "4  ...              0.0              0.0             1.0            0.0   \n",
       "\n",
       "   WindGustDir=WNW  WindGustDir=WSW  WindGustSpeed  WindSpeed3pm  \\\n",
       "0              0.0              0.0       0.395349      0.649123   \n",
       "1              0.0              0.0       0.186047      0.157895   \n",
       "2              0.0              0.0       0.186047      0.333333   \n",
       "3              0.0              0.0       0.240310      0.192982   \n",
       "4              0.0              0.0       0.209302      0.385965   \n",
       "\n",
       "   WindSpeed9am  Year  \n",
       "0      0.400000   0.2  \n",
       "1      0.109091   0.4  \n",
       "2      0.163636   0.6  \n",
       "3      0.200000   0.5  \n",
       "4      0.036364   0.8  \n",
       "\n",
       "[5 rows x 118 columns]"
      ]
     },
     "execution_count": 7,
     "metadata": {},
     "output_type": "execute_result"
    }
   ],
   "source": [
    "X_train.head()"
   ]
  },
  {
   "cell_type": "code",
   "execution_count": 8,
   "metadata": {},
   "outputs": [
    {
     "data": {
      "text/plain": [
       "0     No\n",
       "1     No\n",
       "2     No\n",
       "3     No\n",
       "4    Yes\n",
       "Name: RainTomorrow, dtype: object"
      ]
     },
     "execution_count": 8,
     "metadata": {},
     "output_type": "execute_result"
    }
   ],
   "source": [
    "y_train.head()"
   ]
  },
  {
   "cell_type": "markdown",
   "metadata": {},
   "source": [
    "### Fitting the Model on the data\n",
    "As done in project 1, let's fit the dataset on the Logistic Regression Model"
   ]
  },
  {
   "cell_type": "code",
   "execution_count": 9,
   "metadata": {},
   "outputs": [
    {
     "data": {
      "text/plain": [
       "LogisticRegression(C=1.0, class_weight=None, dual=False, fit_intercept=True,\n",
       "                   intercept_scaling=1, l1_ratio=None, max_iter=100,\n",
       "                   multi_class='auto', n_jobs=None, penalty='l2',\n",
       "                   random_state=0, solver='liblinear', tol=0.0001, verbose=0,\n",
       "                   warm_start=False)"
      ]
     },
     "execution_count": 9,
     "metadata": {},
     "output_type": "execute_result"
    }
   ],
   "source": [
    "#Import the class\n",
    "from sklearn.linear_model import LogisticRegression\n",
    "\n",
    "#Instantiate the model class\n",
    "logreg = LogisticRegression(solver='liblinear', random_state=0)\n",
    "\n",
    "#Train the model\n",
    "logreg.fit(X_train, y_train)"
   ]
  },
  {
   "cell_type": "markdown",
   "metadata": {},
   "source": [
    "### 1. Accuracy Score and Confusion Matrix\n",
    "\n",
    "#### (a) Accuracy Score"
   ]
  },
  {
   "cell_type": "markdown",
   "metadata": {},
   "source": [
    "The main purpose of evaluating models is to understand how good the model is and compare with other models to pick the best one for the problem at hand.\n",
    "\n",
    "Now that we have fit our model, it is time to predict labels for y_test. After obtaining the predictions, we need to evaluate the predicitons. Note that when we talk about model accuracy, we generally refer to the test set and not the train set since we want to base the model on data it has not seen yet. At the same time, we will also be predicting labels for X_train, the data that the model was fit on in order to understand if our model has overfit the training data by comparing it to the model accuracy on the test set.\n",
    "\n",
    "The accuracy of a binary classification model is nothing but the percentage of correct predictions it makes. This is the simplest way to evaluate a classifier: by counting the number of cases in which our model turned out to be right, we can learn a lot about the model's behavior and quality."
   ]
  },
  {
   "cell_type": "markdown",
   "metadata": {},
   "source": [
    "**Overfitting**: This phenomenon occurs when the model has fit 'too perfectly' on the train set, as a result of which it performs poorly on data it has not come across (the test set). It is indicated by a large difference in training set accuracy and testing set accuracy. This leads to high variance. The opposite of overfitting is **underfitting** where the model has not fit well on the training set itself, leading to a high bias.\n",
    "\n",
    "![Image](https://media-exp1.licdn.com/dms/image/C5612AQHQ4RWFA1BO6Q/article-cover_image-shrink_720_1280/0?e=1605744000&v=beta&t=v9VsjM_Pk5K8nDe4yqhdVA7We6lB7lrmyaA9T5g-YBc)\n",
    "\n",
    "**Note**: In the image, validation error refers to the test error in our case."
   ]
  },
  {
   "cell_type": "code",
   "execution_count": 10,
   "metadata": {},
   "outputs": [
    {
     "data": {
      "text/plain": [
       "array(['Yes', 'No', 'No', ..., 'No', 'Yes', 'Yes'], dtype=object)"
      ]
     },
     "execution_count": 10,
     "metadata": {},
     "output_type": "execute_result"
    }
   ],
   "source": [
    "##predicting the result for both the train set and the test set\n",
    "y_pred_train = logreg.predict(X_train)\n",
    "y_pred_test = logreg.predict(X_test)\n",
    "\n",
    "y_pred_test"
   ]
  },
  {
   "cell_type": "code",
   "execution_count": 11,
   "metadata": {},
   "outputs": [
    {
     "name": "stdout",
     "output_type": "stream",
     "text": [
      "Accuracy score for train data: 0.8480\n",
      "Accuracy score for test data: 0.8489\n"
     ]
    }
   ],
   "source": [
    "##model accuracy\n",
    "from sklearn.metrics import accuracy_score\n",
    "\n",
    "#Let's check the accuracy score for both the training set and the testing set\n",
    "print('Accuracy score for train data: {0:0.4f}'.format(accuracy_score(y_train, y_pred_train)))\n",
    "print('Accuracy score for test data: {0:0.4f}'.format(accuracy_score(y_test, y_pred_test)))"
   ]
  },
  {
   "cell_type": "markdown",
   "metadata": {},
   "source": [
    "Since the accuracy score on the test data is very close to the accuracy score on the train data, we can safely say that overfitting has not taken place, meaning we have a low variance model. As for underfitting, while ~85% is probably a good score, we cannot say for sure whether the model has low bias, for all we know we could probably change a few hyperparameters and get a much better accuracy."
   ]
  },
  {
   "cell_type": "markdown",
   "metadata": {},
   "source": [
    "**Note**: Logistic regression does not actually say if it will rain or not, in fact, it provides the probability of raining. If the probability is >= 0.5, the 'predict' method will predict rainfall. The 'predict_proba' method gives the probability values."
   ]
  },
  {
   "cell_type": "code",
   "execution_count": 12,
   "metadata": {},
   "outputs": [
    {
     "data": {
      "text/plain": [
       "array([0.80658277, 0.06055644, 0.15584481, ..., 0.03178373, 0.77339503,\n",
       "       0.95309868])"
      ]
     },
     "execution_count": 12,
     "metadata": {},
     "output_type": "execute_result"
    }
   ],
   "source": [
    "##probabilities for positive class\n",
    "y_pred_test_probs = logreg.predict_proba(X_test)[:,1]\n",
    "\n",
    "y_pred_test_probs"
   ]
  },
  {
   "cell_type": "markdown",
   "metadata": {},
   "source": [
    "What if we want to change our threshold from 0.5? For example, for a cancer predicition model, we would want to predict it as positive even if the probability is at least 0.3. The following code shows how we can do that - of course, on our dataset itself. Not only this, but it also affects the precision-recall trade-off as shown later."
   ]
  },
  {
   "cell_type": "code",
   "execution_count": 13,
   "metadata": {},
   "outputs": [
    {
     "name": "stdout",
     "output_type": "stream",
     "text": [
      "Accuracy score for test data: 0.8243\n"
     ]
    }
   ],
   "source": [
    "BoolArray=logreg.predict_proba(X_test)[:,1]>=0.3\n",
    "Predictions=np.array(['Yes' if val==True else 'No' for val in BoolArray])\n",
    "Predictions\n",
    "print('Accuracy score for test data: {0:0.4f}'.format(accuracy_score(y_test, Predictions)))"
   ]
  },
  {
   "cell_type": "markdown",
   "metadata": {},
   "source": [
    "Notice that the  the accuracy has dropped, but it may vary from model to model."
   ]
  },
  {
   "cell_type": "markdown",
   "metadata": {},
   "source": [
    "Next, although we obtained an accuracy of ~85%, it's a good idea to compare it to a dummy baseline. A dummy baseline is one in which we calculate the accuracy of a model that always predicts 'Yes' or always predicts 'No'. This gives us an idea of how better our model is compared to this 'dummy' model."
   ]
  },
  {
   "cell_type": "code",
   "execution_count": 14,
   "metadata": {},
   "outputs": [],
   "source": [
    "YesDummyModel = np.repeat('Yes',len(y_test))\n",
    "NoDummyModel = np.repeat('No',len(y_test))"
   ]
  },
  {
   "cell_type": "code",
   "execution_count": 15,
   "metadata": {},
   "outputs": [
    {
     "name": "stdout",
     "output_type": "stream",
     "text": [
      "Accuracy score for dummy model predicting \"Yes\": 0.2216\n",
      "Accuracy score for dummy model predicting \"No\": 0.7784\n"
     ]
    }
   ],
   "source": [
    "print('Accuracy score for dummy model predicting \"Yes\": {0:0.4f}'.format(accuracy_score(y_test, YesDummyModel)))\n",
    "print('Accuracy score for dummy model predicting \"No\": {0:0.4f}'.format(accuracy_score(y_test, NoDummyModel)))"
   ]
  },
  {
   "cell_type": "markdown",
   "metadata": {},
   "source": [
    "Notice that the dummy model that predicts \"No\" us just around 7% worse than our model. Not much of a difference for an extremely trivial model. This leads us to the need for a **confusion matrix**. "
   ]
  },
  {
   "cell_type": "markdown",
   "metadata": {},
   "source": [
    "#### (b) Confusion Matrix\n",
    "As seen above, sometimes accuracy may not be the best indicator of how good our model is, particularly when our model has a large percentage of one class (as in the case of 'No' for our dataset) - an imbalanced dataset.\n",
    "\n",
    "![Image](https://2.bp.blogspot.com/-EvSXDotTOwc/XMfeOGZ-CVI/AAAAAAAAEiE/oePFfvhfOQM11dgRn9FkPxlegCXbgOF4QCLcBGAs/s1600/confusionMatrxiUpdated.jpg)\n",
    "\n",
    "As seen in the image, we split our predicted values into one of four classes, depending on if the predicted value is \"Yes\" or \"No\" and if the actual value is \"Yes\" or \"No\". As a result we have several different metrics which, each of which have their unique advantages."
   ]
  },
  {
   "cell_type": "code",
   "execution_count": 16,
   "metadata": {},
   "outputs": [
    {
     "data": {
      "image/png": "[encoded data removed]",
      "text/plain": [
       "<Figure size 432x288 with 2 Axes>"
      ]
     },
     "metadata": {
      "needs_background": "light"
     },
     "output_type": "display_data"
    },
    {
     "name": "stdout",
     "output_type": "stream",
     "text": [
      "\n",
      "               precision    recall  f1-score   support\n",
      "\n",
      "          No       0.87      0.94      0.91     22137\n",
      "         Yes       0.72      0.52      0.60      6302\n",
      "\n",
      "    accuracy                           0.85     28439\n",
      "   macro avg       0.80      0.73      0.75     28439\n",
      "weighted avg       0.84      0.85      0.84     28439\n",
      "\n"
     ]
    }
   ],
   "source": [
    "from sklearn.metrics import confusion_matrix, classification_report\n",
    "\n",
    "#Plotting the Confusion Matrix\n",
    "cm = confusion_matrix(y_test,y_pred_test)\n",
    "cmdf=pd.DataFrame(cm,index=[\"No\",\"Yes\"],columns=[\"No\",\"Yes\"])\n",
    "fig,ax=plt.subplots(1,1)\n",
    "sns.heatmap(cmdf,annot=True,fmt='d',ax=ax)\n",
    "ax.set_xlabel('Predicted Label')\n",
    "ax.set_ylabel('True Label')\n",
    "plt.show()\n",
    "\n",
    "#Printing the Classification Report\n",
    "print(\"\\n\",classification_report(y_test,y_pred_test))"
   ]
  },
  {
   "cell_type": "markdown",
   "metadata": {},
   "source": [
    "Now that we have used a confusion matrix, we can observe that we have a low precision and recall and subsequently low F1-score for \"Yes\" (F1-score is the harmonic mean of precision and recall). Also, the model does poorly when predicting an actual rainy day. By altering certain hyperparameters, one could ensure a suitable trade-off if needed. \n",
    "\n",
    "In our weather forecast case, this may be a serious problem since it is (perhaps) worse off to say that it is not going to rain but it actually rains instead of wrongly predicting that it's going to rain - leading to people getting unexpectly drenched in the former, and the worst case scenario in the latter case being that people carried their umbrellas unneccesary (Better safe than sorry!). **So ideally we would want to reduce the type 2 error, which will increase the type 1 error** - which we would consider a fair trade."
   ]
  },
  {
   "cell_type": "code",
   "execution_count": 17,
   "metadata": {},
   "outputs": [
    {
     "data": {
      "image/png": "[encoded data removed]",
      "text/plain": [
       "<Figure size 432x288 with 2 Axes>"
      ]
     },
     "metadata": {
      "needs_background": "light"
     },
     "output_type": "display_data"
    },
    {
     "name": "stdout",
     "output_type": "stream",
     "text": [
      "              precision    recall  f1-score   support\n",
      "\n",
      "          No       0.91      0.86      0.88     22137\n",
      "         Yes       0.59      0.70      0.64      6302\n",
      "\n",
      "    accuracy                           0.82     28439\n",
      "   macro avg       0.75      0.78      0.76     28439\n",
      "weighted avg       0.84      0.82      0.83     28439\n",
      "\n"
     ]
    }
   ],
   "source": [
    "#Set the threshold value\n",
    "threshold = 0.3\n",
    "\n",
    "BoolArray=logreg.predict_proba(X_test)[:,1]>=threshold\n",
    "predictions=np.array(['Yes' if val==True else 'No' for val in BoolArray])\n",
    "\n",
    "#Plotting the Confusion Matrix\n",
    "cm = confusion_matrix(y_test,predictions)\n",
    "cmdf=pd.DataFrame(cm,index=[\"No\",\"Yes\"],columns=[\"No\",\"Yes\"])\n",
    "fig,ax=plt.subplots(1,1)\n",
    "sns.heatmap(cmdf,annot=True,fmt='d',ax=ax)\n",
    "ax.set_xlabel('Predicted Label')\n",
    "ax.set_ylabel('True Label')\n",
    "plt.show()\n",
    "\n",
    "#Printing the Classification Report\n",
    "print(classification_report(y_test,predictions))"
   ]
  },
  {
   "cell_type": "markdown",
   "metadata": {},
   "source": [
    "Setting a threshold value of 0.3 seemed to get us to an acceptable set of values"
   ]
  },
  {
   "cell_type": "markdown",
   "metadata": {},
   "source": [
    "### 2) ROC Curve and AUC Score"
   ]
  },
  {
   "cell_type": "markdown",
   "metadata": {},
   "source": [
    "An ROC curve (receiver operating characteristic curve) is a graph showing the performance of a classification model at all classification **thresholds**. This curve plots two parameters:\n",
    "\n",
    "1) **True Positive Rate (or recall)**  \n",
    "2) **False Positive Rate**\n",
    "\n",
    "TPR = TP / (TP + FN)  \n",
    "FPR = FP / (FP + TN)"
   ]
  },
  {
   "cell_type": "markdown",
   "metadata": {},
   "source": [
    "We shall compare three different models in order to understand the relation between TPR and FPR. The first one is **our logistic regression model**, the second one is a **random baseline model** (with y labels assigned random values from 0 to 1) and an **ideal model** (which always makes correct decisions - in which \"Yes\" always has a higher probability than \"No\"). For each model, 2 plots are drawn, the first being the variation of the TPR and FPR curves as a function of threshold, and the second plot being the TPR vales vs the FPR values for different threshold values (the ROC curve). By looking at the ideal and baseline curves, you should understand the difference between perfect and random, and our logistic regression model falling in between."
   ]
  },
  {
   "cell_type": "markdown",
   "metadata": {},
   "source": [
    "First, we shall create a function to obtain the TPR and FPR values given the y_test values and the predicted values"
   ]
  },
  {
   "cell_type": "code",
   "execution_count": 18,
   "metadata": {},
   "outputs": [],
   "source": [
    "def tpr_fpr_dataframe(y_pred, y_val):\n",
    "    \n",
    "    #Create an empty list in order to append the confusion matrix values\n",
    "    scores = []\n",
    "    \n",
    "    #Create a list containing many threshold values in between 0 and 1\n",
    "    thresholds = np.linspace(0, 1, 101)\n",
    "    \n",
    "    #Loop through each threshold value to obtain the individual confusion matrix values\n",
    "    for t in thresholds:\n",
    "        #True Positive\n",
    "        tp = ((y_pred >= t) & (y_val == 1)).sum()\n",
    "        #False Positive\n",
    "        fp = ((y_pred >= t) & (y_val == 0)).sum()\n",
    "        #False Negative\n",
    "        fn = ((y_pred < t) & (y_val == 1)).sum()\n",
    "        #True Negative\n",
    "        tn = ((y_pred < t) & (y_val == 0)).sum()\n",
    "        #Append these values to scores for a particular value of 't'\n",
    "        scores.append((t, tp, fp, fn, tn))\n",
    "        \n",
    "    #Create a datadram from scores    \n",
    "    df_scores = pd.DataFrame(scores)\n",
    "    df_scores.columns = ['threshold', 'tp', 'fp', 'fn', 'tn']\n",
    "    \n",
    "    #Calculate the TPR and FPR values for all the threshold values\n",
    "    df_scores['tpr'] = df_scores.tp / (df_scores.tp + df_scores.fn)\n",
    "    df_scores['fpr'] = df_scores.fp / (df_scores.fp + df_scores.tn)\n",
    "    \n",
    "    return df_scores"
   ]
  },
  {
   "cell_type": "code",
   "execution_count": 22,
   "metadata": {},
   "outputs": [],
   "source": [
    "#To convert the y_test labels into 1s and 0s - needed for the following steps\n",
    "y_test_num=np.array([1 if val=='Yes' else 0 for val in y_test])"
   ]
  },
  {
   "cell_type": "markdown",
   "metadata": {},
   "source": [
    "#### Model 1: Our Logistic Regression Model"
   ]
  },
  {
   "cell_type": "code",
   "execution_count": 23,
   "metadata": {},
   "outputs": [
    {
     "data": {
      "image/png": "[encoded data removed]",
      "text/plain": [
       "<Figure size 432x288 with 1 Axes>"
      ]
     },
     "metadata": {
      "needs_background": "light"
     },
     "output_type": "display_data"
    }
   ],
   "source": [
    "#Obtain the FPR and TPR dataframe\n",
    "df_scores = tpr_fpr_dataframe(y_pred_test_probs,y_test_num)\n",
    "\n",
    "#Plot of TPR/FPR vs. Threshold\n",
    "plt.plot(df_scores.threshold, df_scores.tpr, label='TPR')\n",
    "plt.plot(df_scores.threshold, df_scores.fpr, label='FPR')\n",
    "plt.xlabel('Threshold')\n",
    "plt.ylabel('TPR/FPR')\n",
    "plt.legend()\n",
    "plt.show()"
   ]
  },
  {
   "cell_type": "code",
   "execution_count": 24,
   "metadata": {},
   "outputs": [
    {
     "data": {
      "image/png": "[encoded data removed]",
      "text/plain": [
       "<Figure size 360x360 with 1 Axes>"
      ]
     },
     "metadata": {
      "needs_background": "light"
     },
     "output_type": "display_data"
    }
   ],
   "source": [
    "#Plot of TPR vs FPR\n",
    "plt.figure(figsize=(5, 5))\n",
    "plt.plot(df_scores.fpr, df_scores.tpr,label='ROC Curve')\n",
    "plt.plot([0, 1], [0, 1],label='45 Degree Line')\n",
    "plt.legend()\n",
    "plt.ylabel('TPR')\n",
    "plt.xlabel('FPR')\n",
    "plt.show()"
   ]
  },
  {
   "cell_type": "markdown",
   "metadata": {},
   "source": [
    "#### Model 2: Baseline Model (Random)"
   ]
  },
  {
   "cell_type": "code",
   "execution_count": 25,
   "metadata": {},
   "outputs": [
    {
     "data": {
      "image/png": "[encoded data removed]",
      "text/plain": [
       "<Figure size 432x288 with 1 Axes>"
      ]
     },
     "metadata": {
      "needs_background": "light"
     },
     "output_type": "display_data"
    }
   ],
   "source": [
    "#Creation of y_rand which is uniformly random predictions between 0 and 1.\n",
    "np.random.seed(1)\n",
    "y_rand = np.random.uniform(0, 1, size=len(y_test))\n",
    "\n",
    "#Obtain the FPR and TPR dataframe\n",
    "df_rand=tpr_fpr_dataframe(y_rand,y_test_num)\n",
    "\n",
    "#Plot of TPR/FPR vs. Threshold\n",
    "plt.plot(df_rand.threshold, df_rand.tpr, label='TPR')\n",
    "plt.plot(df_rand.threshold, df_rand.fpr, label='FPR')\n",
    "plt.xlabel('Threshold')\n",
    "plt.ylabel('TPR/FPR')\n",
    "plt.legend()\n",
    "plt.show()"
   ]
  },
  {
   "cell_type": "code",
   "execution_count": 26,
   "metadata": {},
   "outputs": [
    {
     "data": {
      "image/png": "[encoded data removed]",
      "text/plain": [
       "<Figure size 360x360 with 1 Axes>"
      ]
     },
     "metadata": {
      "needs_background": "light"
     },
     "output_type": "display_data"
    }
   ],
   "source": [
    "#Plot of TPR vs FPR\n",
    "plt.figure(figsize=(5, 5))\n",
    "plt.plot(df_rand.fpr, df_rand.tpr,label='ROC Curve')\n",
    "plt.plot([0, 1], [0, 1],label='45 Degree Line')\n",
    "plt.legend()\n",
    "plt.ylabel('TPR')\n",
    "plt.xlabel('FPR')\n",
    "plt.show()"
   ]
  },
  {
   "cell_type": "markdown",
   "metadata": {},
   "source": [
    "#### Model 3: Ideal Model"
   ]
  },
  {
   "cell_type": "code",
   "execution_count": 27,
   "metadata": {},
   "outputs": [
    {
     "data": {
      "image/png": "[encoded data removed]",
      "text/plain": [
       "<Figure size 432x288 with 1 Axes>"
      ]
     },
     "metadata": {
      "needs_background": "light"
     },
     "output_type": "display_data"
    }
   ],
   "source": [
    "#Creation of predictions in which the positive classes and negative classes are separated perfectly\n",
    "num_neg = (y_test_num == 0).sum()\n",
    "num_pos = (y_test_num == 1).sum()\n",
    "y_ideal = np.repeat([0, 1], [num_neg, num_pos])\n",
    "y_pred_ideal = np.linspace(0, 1, num_neg + num_pos)\n",
    "\n",
    "#Obtain the FPR and TPR dataframe\n",
    "df_ideal=tpr_fpr_dataframe(y_pred_ideal,y_ideal)\n",
    "\n",
    "#Plot of TPR/FPR vs. Threshold\n",
    "plt.plot(df_ideal.threshold, df_ideal.tpr, label='TPR')\n",
    "plt.plot(df_ideal.threshold, df_ideal.fpr, label='FPR')\n",
    "plt.xlabel('Threshold')\n",
    "plt.ylabel('TPR/FPR')\n",
    "plt.legend()\n",
    "plt.show()"
   ]
  },
  {
   "cell_type": "code",
   "execution_count": 28,
   "metadata": {},
   "outputs": [
    {
     "data": {
      "image/png": "[encoded data removed]",
      "text/plain": [
       "<Figure size 360x360 with 1 Axes>"
      ]
     },
     "metadata": {
      "needs_background": "light"
     },
     "output_type": "display_data"
    }
   ],
   "source": [
    "#Plot of TPR vs FPR\n",
    "plt.figure(figsize=(5, 5))\n",
    "plt.plot(df_ideal.fpr, df_ideal.tpr,label='ROC Curve')\n",
    "plt.plot([0, 1], [0, 1],label='45 Degree Line')\n",
    "plt.legend()\n",
    "plt.ylabel('TPR')\n",
    "plt.xlabel('FPR')\n",
    "plt.show()"
   ]
  },
  {
   "cell_type": "markdown",
   "metadata": {},
   "source": [
    "#### In general, for ROC curves, we have the following image:\n",
    "\n",
    "![Image](https://drek4537l1klr.cloudfront.net/grigorev/v-6/Figures/04_34.png)"
   ]
  },
  {
   "cell_type": "markdown",
   "metadata": {},
   "source": [
    "#### AUC Score"
   ]
  },
  {
   "cell_type": "markdown",
   "metadata": {},
   "source": [
    "As seen from above the area under the ROC curve varies from 0 to 1, with 1 being ideal and 0.5 being random. An AUC of 0.9 is indicative of a reasonably good model; 0.8 is alright, 0.7 is not very good, and 0.6 indicates quite poor performance. The score is indicative of how good the model separates positive and negative labels."
   ]
  },
  {
   "cell_type": "code",
   "execution_count": 29,
   "metadata": {},
   "outputs": [
    {
     "data": {
      "image/png": "[encoded data removed]",
      "text/plain": [
       "<Figure size 432x288 with 1 Axes>"
      ]
     },
     "metadata": {
      "needs_background": "light"
     },
     "output_type": "display_data"
    }
   ],
   "source": [
    "from sklearn.metrics import plot_roc_curve\n",
    "plot_roc_curve(logreg,X_test,y_test)\n",
    "plt.show()"
   ]
  },
  {
   "cell_type": "markdown",
   "metadata": {},
   "source": [
    "Our model has an AUC of 0.87!"
   ]
  },
  {
   "cell_type": "markdown",
   "metadata": {},
   "source": [
    "### 3) K-Fold Cross Validation and Hyperparameter Tuning using GridSearchCV"
   ]
  },
  {
   "cell_type": "markdown",
   "metadata": {},
   "source": [
    "It's possible to use all the available data to assess the quality of models and get more reliable validation results. We can simply perform validation multiple times.\n",
    "\n",
    "First, we split the training dataset into a certain number of parts (say, three). Then we train a model on two parts and validate on the remaining one. We repeat this process three times, and at the end get three different scores. This is exactly the idea behind K-fold cross-validation.\n",
    "\n",
    "![Image](https://drek4537l1klr.cloudfront.net/grigorev/v-6/Figures/04_38.png)"
   ]
  },
  {
   "cell_type": "markdown",
   "metadata": {},
   "source": [
    "Usually, when working with machine learning models, we need to split our model into 3 sets (not 2, like done upto now), the training set, the validation set and the test set. The reason is because if we have just one single test set, we end up tuning our hyperparameters based on the metrics of the test set, and hence in a sense, our model is adapted to our test set lessening the reason for the test set in the first place - to test our model on data it has never seen. But because we are now splitting it into three parts, the training set may further get reduced, worsening the model. The solution is to use K-Fold Cross Validation on the test set, and reserve a part of the dataset for the final testing at the end. "
   ]
  },
  {
   "cell_type": "code",
   "execution_count": 32,
   "metadata": {},
   "outputs": [
    {
     "data": {
      "text/plain": [
       "{'fit_time': array([1.49119306, 1.47703028, 1.16217899, 1.33556509, 1.33875561]),\n",
       " 'score_time': array([0.1350224 , 0.1065371 , 0.10792971, 0.10423994, 0.10479188]),\n",
       " 'test_accuracy': array([0.84668806, 0.8481825 , 0.84734737, 0.84914949, 0.84395604]),\n",
       " 'test_roc_auc': array([0.86967067, 0.87256227, 0.86974046, 0.86918609, 0.86681804])}"
      ]
     },
     "execution_count": 32,
     "metadata": {},
     "output_type": "execute_result"
    }
   ],
   "source": [
    "#Importing the required \n",
    "from sklearn.model_selection import cross_validate, KFold\n",
    "\n",
    "#We are using KFold to split the dataset, but alternatively we could just specify integer values for cv\n",
    "kf = KFold(5,shuffle=True,random_state=0)\n",
    "cv_scores = cross_validate(logreg,X_train,y_train,cv=kf,scoring=['accuracy','roc_auc'])\n",
    "cv_scores"
   ]
  },
  {
   "cell_type": "code",
   "execution_count": 33,
   "metadata": {},
   "outputs": [
    {
     "name": "stdout",
     "output_type": "stream",
     "text": [
      "Mean accuracy score for the data: 0.8471\n",
      "Mean AUC score for the data: 0.8696\n"
     ]
    }
   ],
   "source": [
    "#Print the mean accuracy score and AUC score for all the splits\n",
    "\n",
    "print('Mean accuracy score for the data: {0:0.4f}'.format(cv_scores['test_accuracy'].mean()))\n",
    "print('Mean AUC score for the data: {0:0.4f}'.format(cv_scores['test_roc_auc'].mean()))"
   ]
  },
  {
   "cell_type": "markdown",
   "metadata": {},
   "source": [
    "We can now use this concept of Cross Validation to use **GridSearchCV** to find the best parameters for our Logistic Regression Model."
   ]
  },
  {
   "cell_type": "code",
   "execution_count": 368,
   "metadata": {},
   "outputs": [
    {
     "name": "stdout",
     "output_type": "stream",
     "text": [
      "Fitting 3 folds for each of 21 candidates, totalling 63 fits\n",
      "[CV] C=0.001, solver=liblinear .......................................\n"
     ]
    },
    {
     "name": "stderr",
     "output_type": "stream",
     "text": [
      "[Parallel(n_jobs=1)]: Using backend SequentialBackend with 1 concurrent workers.\n"
     ]
    },
    {
     "name": "stdout",
     "output_type": "stream",
     "text": [
      "[CV] ........................ C=0.001, solver=liblinear, total=   0.4s\n",
      "[CV] C=0.001, solver=liblinear .......................................\n"
     ]
    },
    {
     "name": "stderr",
     "output_type": "stream",
     "text": [
      "[Parallel(n_jobs=1)]: Done   1 out of   1 | elapsed:    0.4s remaining:    0.0s\n"
     ]
    },
    {
     "name": "stdout",
     "output_type": "stream",
     "text": [
      "[CV] ........................ C=0.001, solver=liblinear, total=   0.4s\n",
      "[CV] C=0.001, solver=liblinear .......................................\n",
      "[CV] ........................ C=0.001, solver=liblinear, total=   0.4s\n",
      "[CV] C=0.001, solver=lbfgs ...........................................\n",
      "[CV] ............................ C=0.001, solver=lbfgs, total=   0.5s\n",
      "[CV] C=0.001, solver=lbfgs ...........................................\n",
      "[CV] ............................ C=0.001, solver=lbfgs, total=   0.5s\n",
      "[CV] C=0.001, solver=lbfgs ...........................................\n",
      "[CV] ............................ C=0.001, solver=lbfgs, total=   0.5s\n",
      "[CV] C=0.001, solver=saga ............................................\n",
      "[CV] ............................. C=0.001, solver=saga, total=   1.9s\n",
      "[CV] C=0.001, solver=saga ............................................\n",
      "[CV] ............................. C=0.001, solver=saga, total=   1.8s\n",
      "[CV] C=0.001, solver=saga ............................................\n",
      "[CV] ............................. C=0.001, solver=saga, total=   2.0s\n",
      "[CV] C=0.01, solver=liblinear ........................................\n",
      "[CV] ......................... C=0.01, solver=liblinear, total=   0.5s\n",
      "[CV] C=0.01, solver=liblinear ........................................\n",
      "[CV] ......................... C=0.01, solver=liblinear, total=   0.5s\n",
      "[CV] C=0.01, solver=liblinear ........................................\n",
      "[CV] ......................... C=0.01, solver=liblinear, total=   0.5s\n",
      "[CV] C=0.01, solver=lbfgs ............................................\n",
      "[CV] ............................. C=0.01, solver=lbfgs, total=   0.8s\n",
      "[CV] C=0.01, solver=lbfgs ............................................\n",
      "[CV] ............................. C=0.01, solver=lbfgs, total=   0.9s\n",
      "[CV] C=0.01, solver=lbfgs ............................................\n",
      "[CV] ............................. C=0.01, solver=lbfgs, total=   0.8s\n",
      "[CV] C=0.01, solver=saga .............................................\n",
      "[CV] .............................. C=0.01, solver=saga, total=   1.8s\n",
      "[CV] C=0.01, solver=saga .............................................\n",
      "[CV] .............................. C=0.01, solver=saga, total=   1.7s\n",
      "[CV] C=0.01, solver=saga .............................................\n",
      "[CV] .............................. C=0.01, solver=saga, total=   1.6s\n",
      "[CV] C=0.1, solver=liblinear .........................................\n",
      "[CV] .......................... C=0.1, solver=liblinear, total=   0.7s\n",
      "[CV] C=0.1, solver=liblinear .........................................\n",
      "[CV] .......................... C=0.1, solver=liblinear, total=   0.7s\n",
      "[CV] C=0.1, solver=liblinear .........................................\n",
      "[CV] .......................... C=0.1, solver=liblinear, total=   0.6s\n",
      "[CV] C=0.1, solver=lbfgs .............................................\n",
      "[CV] .............................. C=0.1, solver=lbfgs, total=   1.3s\n",
      "[CV] C=0.1, solver=lbfgs .............................................\n",
      "[CV] .............................. C=0.1, solver=lbfgs, total=   1.3s\n",
      "[CV] C=0.1, solver=lbfgs .............................................\n",
      "[CV] .............................. C=0.1, solver=lbfgs, total=   1.3s\n",
      "[CV] C=0.1, solver=saga ..............................................\n",
      "[CV] ............................... C=0.1, solver=saga, total=   1.7s\n",
      "[CV] C=0.1, solver=saga ..............................................\n",
      "[CV] ............................... C=0.1, solver=saga, total=   1.9s\n",
      "[CV] C=0.1, solver=saga ..............................................\n",
      "[CV] ............................... C=0.1, solver=saga, total=   1.7s\n",
      "[CV] C=1, solver=liblinear ...........................................\n",
      "[CV] ............................ C=1, solver=liblinear, total=   0.9s\n",
      "[CV] C=1, solver=liblinear ...........................................\n",
      "[CV] ............................ C=1, solver=liblinear, total=   1.0s\n",
      "[CV] C=1, solver=liblinear ...........................................\n",
      "[CV] ............................ C=1, solver=liblinear, total=   0.9s\n",
      "[CV] C=1, solver=lbfgs ...............................................\n",
      "[CV] ................................ C=1, solver=lbfgs, total=   1.3s\n",
      "[CV] C=1, solver=lbfgs ...............................................\n",
      "[CV] ................................ C=1, solver=lbfgs, total=   1.3s\n",
      "[CV] C=1, solver=lbfgs ...............................................\n",
      "[CV] ................................ C=1, solver=lbfgs, total=   1.2s\n",
      "[CV] C=1, solver=saga ................................................\n",
      "[CV] ................................. C=1, solver=saga, total=   7.5s\n",
      "[CV] C=1, solver=saga ................................................\n",
      "[CV] ................................. C=1, solver=saga, total=   7.4s\n",
      "[CV] C=1, solver=saga ................................................\n",
      "[CV] ................................. C=1, solver=saga, total=   7.4s\n",
      "[CV] C=10, solver=liblinear ..........................................\n",
      "[CV] ........................... C=10, solver=liblinear, total=   1.0s\n",
      "[CV] C=10, solver=liblinear ..........................................\n",
      "[CV] ........................... C=10, solver=liblinear, total=   0.9s\n",
      "[CV] C=10, solver=liblinear ..........................................\n",
      "[CV] ........................... C=10, solver=liblinear, total=   1.0s\n",
      "[CV] C=10, solver=lbfgs ..............................................\n",
      "[CV] ............................... C=10, solver=lbfgs, total=   1.3s\n",
      "[CV] C=10, solver=lbfgs ..............................................\n",
      "[CV] ............................... C=10, solver=lbfgs, total=   1.3s\n",
      "[CV] C=10, solver=lbfgs ..............................................\n",
      "[CV] ............................... C=10, solver=lbfgs, total=   1.3s\n",
      "[CV] C=10, solver=saga ...............................................\n",
      "[CV] ................................ C=10, solver=saga, total=   9.2s\n",
      "[CV] C=10, solver=saga ...............................................\n",
      "[CV] ................................ C=10, solver=saga, total=   9.2s\n",
      "[CV] C=10, solver=saga ...............................................\n",
      "[CV] ................................ C=10, solver=saga, total=   9.1s\n",
      "[CV] C=100, solver=liblinear .........................................\n",
      "[CV] .......................... C=100, solver=liblinear, total=   1.0s\n",
      "[CV] C=100, solver=liblinear .........................................\n",
      "[CV] .......................... C=100, solver=liblinear, total=   1.1s\n",
      "[CV] C=100, solver=liblinear .........................................\n",
      "[CV] .......................... C=100, solver=liblinear, total=   1.2s\n",
      "[CV] C=100, solver=lbfgs .............................................\n",
      "[CV] .............................. C=100, solver=lbfgs, total=   1.3s\n",
      "[CV] C=100, solver=lbfgs .............................................\n",
      "[CV] .............................. C=100, solver=lbfgs, total=   1.3s\n",
      "[CV] C=100, solver=lbfgs .............................................\n",
      "[CV] .............................. C=100, solver=lbfgs, total=   1.4s\n",
      "[CV] C=100, solver=saga ..............................................\n",
      "[CV] ............................... C=100, solver=saga, total=   2.5s\n",
      "[CV] C=100, solver=saga ..............................................\n",
      "[CV] ............................... C=100, solver=saga, total=   2.6s\n",
      "[CV] C=100, solver=saga ..............................................\n",
      "[CV] ............................... C=100, solver=saga, total=   2.4s\n",
      "[CV] C=1000, solver=liblinear ........................................\n",
      "[CV] ......................... C=1000, solver=liblinear, total=   1.0s\n",
      "[CV] C=1000, solver=liblinear ........................................\n",
      "[CV] ......................... C=1000, solver=liblinear, total=   1.1s\n",
      "[CV] C=1000, solver=liblinear ........................................\n",
      "[CV] ......................... C=1000, solver=liblinear, total=   1.0s\n",
      "[CV] C=1000, solver=lbfgs ............................................\n",
      "[CV] ............................. C=1000, solver=lbfgs, total=   1.4s\n",
      "[CV] C=1000, solver=lbfgs ............................................\n",
      "[CV] ............................. C=1000, solver=lbfgs, total=   1.4s\n",
      "[CV] C=1000, solver=lbfgs ............................................\n"
     ]
    },
    {
     "name": "stdout",
     "output_type": "stream",
     "text": [
      "[CV] ............................. C=1000, solver=lbfgs, total=   1.4s\n",
      "[CV] C=1000, solver=saga .............................................\n",
      "[CV] .............................. C=1000, solver=saga, total=   2.5s\n",
      "[CV] C=1000, solver=saga .............................................\n",
      "[CV] .............................. C=1000, solver=saga, total=   2.6s\n",
      "[CV] C=1000, solver=saga .............................................\n",
      "[CV] .............................. C=1000, solver=saga, total=   2.5s\n"
     ]
    },
    {
     "name": "stderr",
     "output_type": "stream",
     "text": [
      "[Parallel(n_jobs=1)]: Done  63 out of  63 | elapsed:  2.0min finished\n"
     ]
    },
    {
     "data": {
      "text/plain": [
       "GridSearchCV(cv=3, error_score=nan,\n",
       "             estimator=LogisticRegression(C=1.0, class_weight=None, dual=False,\n",
       "                                          fit_intercept=True,\n",
       "                                          intercept_scaling=1, l1_ratio=None,\n",
       "                                          max_iter=100, multi_class='auto',\n",
       "                                          n_jobs=None, penalty='l2',\n",
       "                                          random_state=None, solver='lbfgs',\n",
       "                                          tol=0.0001, verbose=0,\n",
       "                                          warm_start=False),\n",
       "             iid='deprecated', n_jobs=None,\n",
       "             param_grid={'C': [0.001, 0.01, 0.1, 1, 10, 100, 1000],\n",
       "                         'solver': ['liblinear', 'lbfgs', 'saga']},\n",
       "             pre_dispatch='2*n_jobs', refit=True, return_train_score=False,\n",
       "             scoring=None, verbose=2)"
      ]
     },
     "execution_count": 368,
     "metadata": {},
     "output_type": "execute_result"
    }
   ],
   "source": [
    "from sklearn.model_selection import GridSearchCV\n",
    "\n",
    "#We are creating a dictionary of all the permutations of parameters we wish to try out for the model\n",
    "param_grid = {'C': [0.001, 0.01, 0.1, 1, 10, 100, 1000],\n",
    "              'solver' : ['liblinear','lbfgs','saga']}\n",
    "#In the above grid, we will effectively be trying out 7*3 = 21 models\n",
    "\n",
    "clf = GridSearchCV(LogisticRegression(),param_grid,cv=3,verbose=2)\n",
    "\n",
    "#Fit the classifier to obtain the best model for our data. This may take some time!\n",
    "clf.fit(X_train,y_train)"
   ]
  },
  {
   "cell_type": "code",
   "execution_count": 357,
   "metadata": {},
   "outputs": [
    {
     "data": {
      "text/plain": [
       "LogisticRegression(C=1000, class_weight=None, dual=False, fit_intercept=True,\n",
       "                   intercept_scaling=1, l1_ratio=None, max_iter=100,\n",
       "                   multi_class='auto', n_jobs=None, penalty='l2',\n",
       "                   random_state=None, solver='lbfgs', tol=0.0001, verbose=0,\n",
       "                   warm_start=False)"
      ]
     },
     "execution_count": 357,
     "metadata": {},
     "output_type": "execute_result"
    }
   ],
   "source": [
    "#Let us check out the best parameters for our model\n",
    "clf.best_estimator_"
   ]
  },
  {
   "cell_type": "code",
   "execution_count": 361,
   "metadata": {},
   "outputs": [
    {
     "name": "stdout",
     "output_type": "stream",
     "text": [
      "Accuracy score for test data: 0.8489\n"
     ]
    }
   ],
   "source": [
    "#We now use the classifer with the best model to predict the labels for our test set and check its accuracy\n",
    "y_pred_test_grid = clf.predict(X_test)\n",
    "print('Accuracy score for test data: {0:0.4f}'.format(accuracy_score(y_test, y_pred_test_grid)))"
   ]
  },
  {
   "cell_type": "code",
   "execution_count": 360,
   "metadata": {},
   "outputs": [
    {
     "data": {
      "image/png": "[encoded data removed]",
      "text/plain": [
       "<Figure size 432x288 with 2 Axes>"
      ]
     },
     "metadata": {
      "needs_background": "light"
     },
     "output_type": "display_data"
    },
    {
     "name": "stdout",
     "output_type": "stream",
     "text": [
      "              precision    recall  f1-score   support\n",
      "\n",
      "          No       0.91      0.86      0.88     22137\n",
      "         Yes       0.59      0.70      0.64      6302\n",
      "\n",
      "    accuracy                           0.83     28439\n",
      "   macro avg       0.75      0.78      0.76     28439\n",
      "weighted avg       0.84      0.83      0.83     28439\n",
      "\n"
     ]
    }
   ],
   "source": [
    "#Let us now check the confusion matrix and classification report for this model and compare it to our initial one\n",
    "#Set the threshold value manually\n",
    "threshold = 0.3\n",
    "\n",
    "BoolArray=clf.predict_proba(X_test)[:,1]>=threshold\n",
    "predictions_grid=np.array(['Yes' if val==True else 'No' for val in BoolArray])\n",
    "\n",
    "#Plotting the Confusion Matrix\n",
    "cm = confusion_matrix(y_test,predictions_grid)\n",
    "cmdf=pd.DataFrame(cm,index=[\"No\",\"Yes\"],columns=[\"No\",\"Yes\"])\n",
    "fig,ax=plt.subplots(1,1)\n",
    "sns.heatmap(cmdf,annot=True,fmt='d',ax=ax)\n",
    "ax.set_xlabel('Predicted Label')\n",
    "ax.set_ylabel('True Label')\n",
    "plt.show()\n",
    "\n",
    "#Printing the Classification Report\n",
    "print(classification_report(y_test,predictions_grid))"
   ]
  },
  {
   "cell_type": "markdown",
   "metadata": {},
   "source": [
    "### Conclusion"
   ]
  },
  {
   "cell_type": "markdown",
   "metadata": {},
   "source": [
    "The final model after GridSearchCV is very comparable to the initial model we had. Accuracy is idenitical upto 4 decimal places but f1 score for \"Yes\" has increased while f1 score for \"No\" has decreased. Let's go ahead with the final model with a threshold value of 0.3."
   ]
  },
  {
   "cell_type": "markdown",
   "metadata": {},
   "source": [
    "### Save the Model"
   ]
  },
  {
   "cell_type": "code",
   "execution_count": null,
   "metadata": {},
   "outputs": [],
   "source": [
    "#Save the model\n",
    "\n",
    "lr = clf.best_estimator_\n",
    "lr.fit(X_train,y_train)\n",
    "\n",
    "import joblib #Install the library if you do not have it or import it from sklearn.externals\n",
    "joblib.dump(lr,'LogReg_Model.pkl')"
   ]
  }
 ],
 "metadata": {
  "kernelspec": {
   "display_name": "Python 3",
   "language": "python",
   "name": "python3"
  },
  "language_info": {
   "codemirror_mode": {
    "name": "ipython",
    "version": 3
   },
   "file_extension": ".py",
   "mimetype": "text/x-python",
   "name": "python",
   "nbconvert_exporter": "python",
   "pygments_lexer": "ipython3",
   "version": "3.7.6"
  }
 },
 "nbformat": 4,
 "nbformat_minor": 4
}
