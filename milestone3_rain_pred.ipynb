{
 "cells": [
  {
   "cell_type": "markdown",
   "metadata": {},
   "source": [
    "## K-Fold Cross-Validation and Hyperparameter Tuning using GridSearchCV\n",
    "The Notebook offers an example solution for the third milestone of the Rain Prediction second project."
   ]
  },
  {
   "cell_type": "markdown",
   "metadata": {},
   "source": [
    "### Data\n",
    "\n",
    "We are using the [Rainfall prediction dataset from Kaggle](https://www.kaggle.com/jsphyg/weather-dataset-rattle-package) which cotains daily weather observations from numerous Austrailian weather stations."
   ]
  },
  {
   "cell_type": "markdown",
   "metadata": {},
   "source": [
    "### Importing Libraries"
   ]
  },
  {
   "cell_type": "code",
   "execution_count": 22,
   "metadata": {},
   "outputs": [],
   "source": [
    "##importing libraries\n",
    "import numpy as np  #for algebraic operations on arrays\n",
    "import pandas as pd  #for data exploration and manipulation\n",
    "\n",
    "\n",
    "##plotting libraries\n",
    "import matplotlib.pyplot as plt\n",
    "import seaborn as sns\n",
    "%matplotlib inline\n",
    "\n",
    "import warnings\n",
    "warnings.filterwarnings('ignore')"
   ]
  },
  {
   "cell_type": "markdown",
   "metadata": {},
   "source": [
    "### Reading, Cleaning and Fitting the Dataset\n",
    "Refer to milestone 1 if you have forgotten why were doing the following steps!"
   ]
  },
  {
   "cell_type": "code",
   "execution_count": 23,
   "metadata": {},
   "outputs": [],
   "source": [
    "#Read the data\n",
    "X_train=pd.read_csv('data/X_train.csv')\n",
    "X_test=pd.read_csv('data/X_test.csv')\n",
    "y_train=pd.read_csv('data/y_train.csv')\n",
    "y_test=pd.read_csv('data/y_test.csv')"
   ]
  },
  {
   "cell_type": "code",
   "execution_count": 24,
   "metadata": {},
   "outputs": [],
   "source": [
    "#Clean the data\n",
    "X_train=X_train.iloc[:,1:]\n",
    "X_test=X_test.iloc[:,1:]\n",
    "y_train=y_train[\"RainTomorrow\"]\n",
    "y_test=y_test[\"RainTomorrow\"]"
   ]
  },
  {
   "cell_type": "code",
   "execution_count": 25,
   "metadata": {},
   "outputs": [
    {
     "data": {
      "text/plain": [
       "LogisticRegression(C=1.0, class_weight=None, dual=False, fit_intercept=True,\n",
       "                   intercept_scaling=1, l1_ratio=None, max_iter=100,\n",
       "                   multi_class='auto', n_jobs=None, penalty='l2',\n",
       "                   random_state=0, solver='liblinear', tol=0.0001, verbose=0,\n",
       "                   warm_start=False)"
      ]
     },
     "execution_count": 25,
     "metadata": {},
     "output_type": "execute_result"
    }
   ],
   "source": [
    "#Import the class\n",
    "from sklearn.linear_model import LogisticRegression\n",
    "\n",
    "#Instantiate the model class\n",
    "logreg = LogisticRegression(solver='liblinear', random_state=0)\n",
    "\n",
    "#Train the model\n",
    "logreg.fit(X_train, y_train)"
   ]
  },
  {
   "cell_type": "markdown",
   "metadata": {},
   "source": [
    "---\n",
    "---"
   ]
  },
  {
   "cell_type": "markdown",
   "metadata": {},
   "source": [
    "### K-Fold Cross Validation and Hyperparameter Tuning using GridSearchCV"
   ]
  },
  {
   "cell_type": "markdown",
   "metadata": {},
   "source": [
    "It's possible to use all the available data to assess the quality of models and get more reliable validation results. We can simply perform validation multiple times.\n",
    "\n",
    "First, we split the training dataset into a certain number of parts (say, three). Then we train a model on two parts and validate on the remaining one. We repeat this process three times, and at the end get three different scores. This is exactly the idea behind K-fold cross-validation.\n",
    "\n",
    "![Image](https://drek4537l1klr.cloudfront.net/grigorev/v-6/Figures/04_38.png)"
   ]
  },
  {
   "cell_type": "markdown",
   "metadata": {},
   "source": [
    "Usually, when working with machine learning models, we need to split our model into 3 sets (not 2, like done upto now), the training set, the validation set and the test set. The reason is because if we have just one single test set, we end up tuning our hyperparameters based on the metrics of the test set, and hence in a sense, our model is adapted to our test set lessening the reason for the test set in the first place - to test our model on data it has never seen. But because we are now splitting it into three parts, the training set may further get reduced, worsening the model. The solution is to use K-Fold Cross Validation on the test set, and reserve a part of the dataset for the final testing at the end. "
   ]
  },
  {
   "cell_type": "code",
   "execution_count": 26,
   "metadata": {},
   "outputs": [
    {
     "data": {
      "text/plain": [
       "{'fit_time': array([1.39679313, 1.43390441, 1.17910504, 1.35417247, 1.51000261]),\n",
       " 'score_time': array([0.11235046, 0.10819411, 0.10589981, 0.10441613, 0.11729145]),\n",
       " 'test_accuracy': array([0.84668806, 0.8481825 , 0.84734737, 0.84914949, 0.84395604]),\n",
       " 'test_roc_auc': array([0.86967067, 0.87256227, 0.86974046, 0.86918609, 0.86681804])}"
      ]
     },
     "execution_count": 26,
     "metadata": {},
     "output_type": "execute_result"
    }
   ],
   "source": [
    "#Importing the required \n",
    "from sklearn.model_selection import cross_validate, KFold\n",
    "\n",
    "#We are using KFold to split the dataset, but alternatively we could just specify integer values for cv\n",
    "kf = KFold(5,shuffle=True,random_state=0)\n",
    "cv_scores = cross_validate(logreg,X_train,y_train,cv=kf,scoring=['accuracy','roc_auc'])\n",
    "cv_scores"
   ]
  },
  {
   "cell_type": "code",
   "execution_count": 27,
   "metadata": {},
   "outputs": [
    {
     "name": "stdout",
     "output_type": "stream",
     "text": [
      "Mean accuracy score for the data: 0.8471\n",
      "Mean AUC score for the data: 0.8696\n"
     ]
    }
   ],
   "source": [
    "#Print the mean accuracy score and AUC score for all the splits\n",
    "\n",
    "print('Mean accuracy score for the data: {0:0.4f}'.format(cv_scores['test_accuracy'].mean()))\n",
    "print('Mean AUC score for the data: {0:0.4f}'.format(cv_scores['test_roc_auc'].mean()))"
   ]
  },
  {
   "cell_type": "markdown",
   "metadata": {},
   "source": [
    "We can now use this concept of Cross Validation to use **GridSearchCV** to find the best parameters for our Logistic Regression Model."
   ]
  },
  {
   "cell_type": "code",
   "execution_count": 7,
   "metadata": {},
   "outputs": [
    {
     "name": "stdout",
     "output_type": "stream",
     "text": [
      "Fitting 3 folds for each of 21 candidates, totalling 63 fits\n",
      "[CV] C=0.001, solver=liblinear .......................................\n"
     ]
    },
    {
     "name": "stderr",
     "output_type": "stream",
     "text": [
      "[Parallel(n_jobs=1)]: Using backend SequentialBackend with 1 concurrent workers.\n"
     ]
    },
    {
     "name": "stdout",
     "output_type": "stream",
     "text": [
      "[CV] ........................ C=0.001, solver=liblinear, total=   0.4s\n",
      "[CV] C=0.001, solver=liblinear .......................................\n"
     ]
    },
    {
     "name": "stderr",
     "output_type": "stream",
     "text": [
      "[Parallel(n_jobs=1)]: Done   1 out of   1 | elapsed:    0.4s remaining:    0.0s\n"
     ]
    },
    {
     "name": "stdout",
     "output_type": "stream",
     "text": [
      "[CV] ........................ C=0.001, solver=liblinear, total=   0.4s\n",
      "[CV] C=0.001, solver=liblinear .......................................\n",
      "[CV] ........................ C=0.001, solver=liblinear, total=   0.4s\n",
      "[CV] C=0.001, solver=lbfgs ...........................................\n",
      "[CV] ............................ C=0.001, solver=lbfgs, total=   0.5s\n",
      "[CV] C=0.001, solver=lbfgs ...........................................\n",
      "[CV] ............................ C=0.001, solver=lbfgs, total=   0.5s\n",
      "[CV] C=0.001, solver=lbfgs ...........................................\n",
      "[CV] ............................ C=0.001, solver=lbfgs, total=   0.6s\n",
      "[CV] C=0.001, solver=saga ............................................\n",
      "[CV] ............................. C=0.001, solver=saga, total=   1.8s\n",
      "[CV] C=0.001, solver=saga ............................................\n",
      "[CV] ............................. C=0.001, solver=saga, total=   1.9s\n",
      "[CV] C=0.001, solver=saga ............................................\n",
      "[CV] ............................. C=0.001, solver=saga, total=   2.0s\n",
      "[CV] C=0.01, solver=liblinear ........................................\n",
      "[CV] ......................... C=0.01, solver=liblinear, total=   0.6s\n",
      "[CV] C=0.01, solver=liblinear ........................................\n",
      "[CV] ......................... C=0.01, solver=liblinear, total=   0.5s\n",
      "[CV] C=0.01, solver=liblinear ........................................\n",
      "[CV] ......................... C=0.01, solver=liblinear, total=   0.6s\n",
      "[CV] C=0.01, solver=lbfgs ............................................\n",
      "[CV] ............................. C=0.01, solver=lbfgs, total=   0.9s\n",
      "[CV] C=0.01, solver=lbfgs ............................................\n",
      "[CV] ............................. C=0.01, solver=lbfgs, total=   1.0s\n",
      "[CV] C=0.01, solver=lbfgs ............................................\n",
      "[CV] ............................. C=0.01, solver=lbfgs, total=   1.0s\n",
      "[CV] C=0.01, solver=saga .............................................\n",
      "[CV] .............................. C=0.01, solver=saga, total=   1.9s\n",
      "[CV] C=0.01, solver=saga .............................................\n",
      "[CV] .............................. C=0.01, solver=saga, total=   1.9s\n",
      "[CV] C=0.01, solver=saga .............................................\n",
      "[CV] .............................. C=0.01, solver=saga, total=   2.1s\n",
      "[CV] C=0.1, solver=liblinear .........................................\n",
      "[CV] .......................... C=0.1, solver=liblinear, total=   0.7s\n",
      "[CV] C=0.1, solver=liblinear .........................................\n",
      "[CV] .......................... C=0.1, solver=liblinear, total=   0.7s\n",
      "[CV] C=0.1, solver=liblinear .........................................\n",
      "[CV] .......................... C=0.1, solver=liblinear, total=   0.7s\n",
      "[CV] C=0.1, solver=lbfgs .............................................\n",
      "[CV] .............................. C=0.1, solver=lbfgs, total=   1.4s\n",
      "[CV] C=0.1, solver=lbfgs .............................................\n",
      "[CV] .............................. C=0.1, solver=lbfgs, total=   1.4s\n",
      "[CV] C=0.1, solver=lbfgs .............................................\n",
      "[CV] .............................. C=0.1, solver=lbfgs, total=   1.4s\n",
      "[CV] C=0.1, solver=saga ..............................................\n",
      "[CV] ............................... C=0.1, solver=saga, total=   1.7s\n",
      "[CV] C=0.1, solver=saga ..............................................\n",
      "[CV] ............................... C=0.1, solver=saga, total=   1.7s\n",
      "[CV] C=0.1, solver=saga ..............................................\n",
      "[CV] ............................... C=0.1, solver=saga, total=   1.7s\n",
      "[CV] C=1, solver=liblinear ...........................................\n",
      "[CV] ............................ C=1, solver=liblinear, total=   0.9s\n",
      "[CV] C=1, solver=liblinear ...........................................\n",
      "[CV] ............................ C=1, solver=liblinear, total=   1.1s\n",
      "[CV] C=1, solver=liblinear ...........................................\n",
      "[CV] ............................ C=1, solver=liblinear, total=   0.9s\n",
      "[CV] C=1, solver=lbfgs ...............................................\n",
      "[CV] ................................ C=1, solver=lbfgs, total=   1.3s\n",
      "[CV] C=1, solver=lbfgs ...............................................\n",
      "[CV] ................................ C=1, solver=lbfgs, total=   1.4s\n",
      "[CV] C=1, solver=lbfgs ...............................................\n",
      "[CV] ................................ C=1, solver=lbfgs, total=   1.3s\n",
      "[CV] C=1, solver=saga ................................................\n",
      "[CV] ................................. C=1, solver=saga, total=   7.5s\n",
      "[CV] C=1, solver=saga ................................................\n",
      "[CV] ................................. C=1, solver=saga, total=   7.7s\n",
      "[CV] C=1, solver=saga ................................................\n",
      "[CV] ................................. C=1, solver=saga, total=   7.5s\n",
      "[CV] C=10, solver=liblinear ..........................................\n",
      "[CV] ........................... C=10, solver=liblinear, total=   1.0s\n",
      "[CV] C=10, solver=liblinear ..........................................\n",
      "[CV] ........................... C=10, solver=liblinear, total=   0.9s\n",
      "[CV] C=10, solver=liblinear ..........................................\n",
      "[CV] ........................... C=10, solver=liblinear, total=   1.0s\n",
      "[CV] C=10, solver=lbfgs ..............................................\n",
      "[CV] ............................... C=10, solver=lbfgs, total=   1.5s\n",
      "[CV] C=10, solver=lbfgs ..............................................\n",
      "[CV] ............................... C=10, solver=lbfgs, total=   1.3s\n",
      "[CV] C=10, solver=lbfgs ..............................................\n",
      "[CV] ............................... C=10, solver=lbfgs, total=   1.3s\n",
      "[CV] C=10, solver=saga ...............................................\n",
      "[CV] ................................ C=10, solver=saga, total=   9.2s\n",
      "[CV] C=10, solver=saga ...............................................\n",
      "[CV] ................................ C=10, solver=saga, total=   9.3s\n",
      "[CV] C=10, solver=saga ...............................................\n",
      "[CV] ................................ C=10, solver=saga, total=   9.2s\n",
      "[CV] C=100, solver=liblinear .........................................\n",
      "[CV] .......................... C=100, solver=liblinear, total=   1.0s\n",
      "[CV] C=100, solver=liblinear .........................................\n",
      "[CV] .......................... C=100, solver=liblinear, total=   1.1s\n",
      "[CV] C=100, solver=liblinear .........................................\n",
      "[CV] .......................... C=100, solver=liblinear, total=   1.2s\n",
      "[CV] C=100, solver=lbfgs .............................................\n",
      "[CV] .............................. C=100, solver=lbfgs, total=   1.4s\n",
      "[CV] C=100, solver=lbfgs .............................................\n",
      "[CV] .............................. C=100, solver=lbfgs, total=   1.4s\n",
      "[CV] C=100, solver=lbfgs .............................................\n",
      "[CV] .............................. C=100, solver=lbfgs, total=   1.4s\n",
      "[CV] C=100, solver=saga ..............................................\n",
      "[CV] ............................... C=100, solver=saga, total=   2.6s\n",
      "[CV] C=100, solver=saga ..............................................\n",
      "[CV] ............................... C=100, solver=saga, total=   2.6s\n",
      "[CV] C=100, solver=saga ..............................................\n",
      "[CV] ............................... C=100, solver=saga, total=   2.5s\n",
      "[CV] C=1000, solver=liblinear ........................................\n",
      "[CV] ......................... C=1000, solver=liblinear, total=   1.0s\n",
      "[CV] C=1000, solver=liblinear ........................................\n",
      "[CV] ......................... C=1000, solver=liblinear, total=   1.1s\n",
      "[CV] C=1000, solver=liblinear ........................................\n",
      "[CV] ......................... C=1000, solver=liblinear, total=   1.0s\n",
      "[CV] C=1000, solver=lbfgs ............................................\n",
      "[CV] ............................. C=1000, solver=lbfgs, total=   1.4s\n",
      "[CV] C=1000, solver=lbfgs ............................................\n",
      "[CV] ............................. C=1000, solver=lbfgs, total=   1.3s\n",
      "[CV] C=1000, solver=lbfgs ............................................\n"
     ]
    },
    {
     "name": "stdout",
     "output_type": "stream",
     "text": [
      "[CV] ............................. C=1000, solver=lbfgs, total=   1.4s\n",
      "[CV] C=1000, solver=saga .............................................\n",
      "[CV] .............................. C=1000, solver=saga, total=   2.5s\n",
      "[CV] C=1000, solver=saga .............................................\n",
      "[CV] .............................. C=1000, solver=saga, total=   2.5s\n",
      "[CV] C=1000, solver=saga .............................................\n",
      "[CV] .............................. C=1000, solver=saga, total=   2.6s\n"
     ]
    },
    {
     "name": "stderr",
     "output_type": "stream",
     "text": [
      "[Parallel(n_jobs=1)]: Done  63 out of  63 | elapsed:  2.1min finished\n"
     ]
    },
    {
     "data": {
      "text/plain": [
       "GridSearchCV(cv=3, error_score=nan,\n",
       "             estimator=LogisticRegression(C=1.0, class_weight=None, dual=False,\n",
       "                                          fit_intercept=True,\n",
       "                                          intercept_scaling=1, l1_ratio=None,\n",
       "                                          max_iter=100, multi_class='auto',\n",
       "                                          n_jobs=None, penalty='l2',\n",
       "                                          random_state=None, solver='lbfgs',\n",
       "                                          tol=0.0001, verbose=0,\n",
       "                                          warm_start=False),\n",
       "             iid='deprecated', n_jobs=None,\n",
       "             param_grid={'C': [0.001, 0.01, 0.1, 1, 10, 100, 1000],\n",
       "                         'solver': ['liblinear', 'lbfgs', 'saga']},\n",
       "             pre_dispatch='2*n_jobs', refit=True, return_train_score=False,\n",
       "             scoring=None, verbose=2)"
      ]
     },
     "execution_count": 7,
     "metadata": {},
     "output_type": "execute_result"
    }
   ],
   "source": [
    "from sklearn.model_selection import GridSearchCV\n",
    "\n",
    "#We are creating a dictionary of all the permutations of parameters we wish to try out for the model\n",
    "param_grid = {'C': [0.001, 0.01, 0.1, 1, 10, 100, 1000],\n",
    "              'solver' : ['liblinear','lbfgs','saga']}\n",
    "#In the above grid, we will effectively be trying out 7*3 = 21 models\n",
    "\n",
    "clf = GridSearchCV(LogisticRegression(),param_grid,cv=3,verbose=2)\n",
    "\n",
    "#Fit the classifier to obtain the best model for our data. This may take some time!\n",
    "clf.fit(X_train,y_train)"
   ]
  },
  {
   "cell_type": "code",
   "execution_count": 8,
   "metadata": {},
   "outputs": [
    {
     "data": {
      "text/plain": [
       "LogisticRegression(C=1000, class_weight=None, dual=False, fit_intercept=True,\n",
       "                   intercept_scaling=1, l1_ratio=None, max_iter=100,\n",
       "                   multi_class='auto', n_jobs=None, penalty='l2',\n",
       "                   random_state=None, solver='lbfgs', tol=0.0001, verbose=0,\n",
       "                   warm_start=False)"
      ]
     },
     "execution_count": 8,
     "metadata": {},
     "output_type": "execute_result"
    }
   ],
   "source": [
    "#Let us check out the best parameters for our model\n",
    "clf.best_estimator_"
   ]
  },
  {
   "cell_type": "code",
   "execution_count": 9,
   "metadata": {},
   "outputs": [
    {
     "name": "stdout",
     "output_type": "stream",
     "text": [
      "Accuracy score for test data: 0.8489\n"
     ]
    }
   ],
   "source": [
    "from sklearn.metrics import accuracy_score\n",
    "\n",
    "#We now use the classifer with the best model to predict the labels for our test set and check its accuracy\n",
    "y_pred_test_grid = clf.predict(X_test)\n",
    "print('Accuracy score for test data: {0:0.4f}'.format(accuracy_score(y_test, y_pred_test_grid)))"
   ]
  },
  {
   "cell_type": "code",
   "execution_count": 10,
   "metadata": {},
   "outputs": [
    {
     "data": {
      "image/png": "[encoded data removed]",
      "text/plain": [
       "<Figure size 432x288 with 2 Axes>"
      ]
     },
     "metadata": {
      "needs_background": "light"
     },
     "output_type": "display_data"
    },
    {
     "name": "stdout",
     "output_type": "stream",
     "text": [
      "              precision    recall  f1-score   support\n",
      "\n",
      "          No       0.91      0.86      0.88     22137\n",
      "         Yes       0.59      0.70      0.64      6302\n",
      "\n",
      "    accuracy                           0.83     28439\n",
      "   macro avg       0.75      0.78      0.76     28439\n",
      "weighted avg       0.84      0.83      0.83     28439\n",
      "\n"
     ]
    }
   ],
   "source": [
    "from sklearn.metrics import confusion_matrix, classification_report\n",
    "\n",
    "#Let us now check the confusion matrix and classification report for this model and compare it to our initial one\n",
    "#Set the threshold value manually\n",
    "threshold = 0.3\n",
    "\n",
    "BoolArray=clf.predict_proba(X_test)[:,1]>=threshold\n",
    "predictions_grid=np.array(['Yes' if val==True else 'No' for val in BoolArray])\n",
    "\n",
    "#Plotting the Confusion Matrix\n",
    "cm = confusion_matrix(y_test,predictions_grid)\n",
    "cmdf=pd.DataFrame(cm,index=[\"No\",\"Yes\"],columns=[\"No\",\"Yes\"])\n",
    "fig,ax=plt.subplots(1,1)\n",
    "sns.heatmap(cmdf,annot=True,fmt='d',ax=ax)\n",
    "ax.set_xlabel('Predicted Label')\n",
    "ax.set_ylabel('True Label')\n",
    "plt.show()\n",
    "\n",
    "#Printing the Classification Report\n",
    "print(classification_report(y_test,predictions_grid))"
   ]
  },
  {
   "cell_type": "markdown",
   "metadata": {},
   "source": [
    "### Conclusion"
   ]
  },
  {
   "cell_type": "markdown",
   "metadata": {},
   "source": [
    "The final model after GridSearchCV is very comparable to the initial model we had. Accuracy is idenitical upto 4 decimal places but f1 score for \"Yes\" has increased while f1 score for \"No\" has decreased. Let's go ahead with the final model with a threshold value of 0.3."
   ]
  },
  {
   "cell_type": "markdown",
   "metadata": {},
   "source": [
    "### Save the Model"
   ]
  },
  {
   "cell_type": "code",
   "execution_count": 21,
   "metadata": {},
   "outputs": [
    {
     "data": {
      "text/plain": [
       "['LogReg_Model.pkl']"
      ]
     },
     "execution_count": 21,
     "metadata": {},
     "output_type": "execute_result"
    }
   ],
   "source": [
    "#Save the model\n",
    "\n",
    "lr = clf.best_estimator_\n",
    "lr.fit(X_train,y_train)\n",
    "\n",
    "import joblib #Install the library if you do not have it or import it from sklearn.externals\n",
    "joblib.dump(lr,'LogReg_Model.pkl')"
   ]
  }
 ],
 "metadata": {
  "kernelspec": {
   "display_name": "Python 3",
   "language": "python",
   "name": "python3"
  },
  "language_info": {
   "codemirror_mode": {
    "name": "ipython",
    "version": 3
   },
   "file_extension": ".py",
   "mimetype": "text/x-python",
   "name": "python",
   "nbconvert_exporter": "python",
   "pygments_lexer": "ipython3",
   "version": "3.7.6"
  }
 },
 "nbformat": 4,
 "nbformat_minor": 4
}
